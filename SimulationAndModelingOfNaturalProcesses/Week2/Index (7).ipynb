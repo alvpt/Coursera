{
 "cells": [
  {
   "cell_type": "code",
   "execution_count": 1,
   "metadata": {},
   "outputs": [],
   "source": [
    "import numpy as np\n",
    "import math"
   ]
  },
  {
   "cell_type": "code",
   "execution_count": 2,
   "metadata": {},
   "outputs": [],
   "source": [
    "\n",
    "\n",
    "class Integrator:\n",
    "    def __init__(self, xMin, xMax, N):\n",
    "        self.min = xMin\n",
    "        self.max = xMax\n",
    "        self.intervals = N\n",
    "    \n",
    "            \n",
    "    def integrate(self):\n",
    "        deltax = (self.max-self.min)/self.intervals\n",
    "        \n",
    "        def function(x):\n",
    "            return x**2 * math.exp(-x) * math.sin(x)\n",
    "        \n",
    "        integration = 0\n",
    "        \n",
    "        for i in range(self.intervals-1):\n",
    "            x = self.min + i*deltax\n",
    "            integration = integration + function(x)*deltax\n",
    "    \n",
    "        return integration\n",
    "            \n",
    "        \n",
    "    def show(self):\n",
    "        print(\"The result of the integration is \", self.integrate())\n",
    "\n",
    "        \n",
    "\n"
   ]
  },
  {
   "cell_type": "code",
   "execution_count": 6,
   "metadata": {},
   "outputs": [
    {
     "output_type": "stream",
     "name": "stdout",
     "text": "The result of the integration is  0.7637396068721345\n"
    }
   ],
   "source": [
    "examp = Integrator(1,3,200000)\n",
    "examp.integrate()\n",
    "examp.show()"
   ]
  },
  {
   "cell_type": "code",
   "execution_count": null,
   "metadata": {},
   "outputs": [],
   "source": []
  }
 ],
 "metadata": {
  "kernelspec": {
   "display_name": "Python 3",
   "language": "python",
   "name": "python3"
  },
  "language_info": {
   "codemirror_mode": {
    "name": "ipython",
    "version": 3
   },
   "file_extension": ".py",
   "mimetype": "text/x-python",
   "name": "python",
   "nbconvert_exporter": "python",
   "pygments_lexer": "ipython3",
   "version": "3.7.4-final"
  }
 },
 "nbformat": 4,
 "nbformat_minor": 2
}