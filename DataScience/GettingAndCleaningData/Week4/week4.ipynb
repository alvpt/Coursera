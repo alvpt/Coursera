{
 "cells": [
  {
   "cell_type": "code",
   "execution_count": 1,
   "metadata": {},
   "outputs": [],
   "source": [
    "import pandas as pd"
   ]
  },
  {
   "cell_type": "code",
   "execution_count": 2,
   "metadata": {},
   "outputs": [],
   "source": [
    "csvData = pd.read_csv('data\\\\getdata_data_ss06hid.csv')"
   ]
  },
  {
   "cell_type": "code",
   "execution_count": 3,
   "metadata": {},
   "outputs": [
    {
     "output_type": "execute_result",
     "data": {
      "text/plain": "  RT  SERIALNO  DIVISION  PUMA  REGION  ST   ADJUST  WGTP  NP  TYPE  ...  \\\n0  H       186         8   700       4  16  1015675    89   4     1  ...   \n1  H       306         8   700       4  16  1015675   310   1     1  ...   \n2  H       395         8   100       4  16  1015675   106   2     1  ...   \n3  H       506         8   700       4  16  1015675   240   4     1  ...   \n4  H       835         8   800       4  16  1015675   118   4     1  ...   \n\n   wgtp71  wgtp72  wgtp73  wgtp74  wgtp75  wgtp76  wgtp77  wgtp78  wgtp79  \\\n0      81      27      93     151      28      79      25     101     157   \n1     292     401      81     494     346     496     615     286     454   \n2     123     119     168     107      95     101      30     124     106   \n3      68     359     385      71     234     421      76      77     242   \n4     127      36     119     121     116     209      97     176     144   \n\n   wgtp80  \n0     129  \n1     260  \n2      31  \n3     231  \n4      38  \n\n[5 rows x 188 columns]",
      "text/html": "<div>\n<style scoped>\n    .dataframe tbody tr th:only-of-type {\n        vertical-align: middle;\n    }\n\n    .dataframe tbody tr th {\n        vertical-align: top;\n    }\n\n    .dataframe thead th {\n        text-align: right;\n    }\n</style>\n<table border=\"1\" class=\"dataframe\">\n  <thead>\n    <tr style=\"text-align: right;\">\n      <th></th>\n      <th>RT</th>\n      <th>SERIALNO</th>\n      <th>DIVISION</th>\n      <th>PUMA</th>\n      <th>REGION</th>\n      <th>ST</th>\n      <th>ADJUST</th>\n      <th>WGTP</th>\n      <th>NP</th>\n      <th>TYPE</th>\n      <th>...</th>\n      <th>wgtp71</th>\n      <th>wgtp72</th>\n      <th>wgtp73</th>\n      <th>wgtp74</th>\n      <th>wgtp75</th>\n      <th>wgtp76</th>\n      <th>wgtp77</th>\n      <th>wgtp78</th>\n      <th>wgtp79</th>\n      <th>wgtp80</th>\n    </tr>\n  </thead>\n  <tbody>\n    <tr>\n      <td>0</td>\n      <td>H</td>\n      <td>186</td>\n      <td>8</td>\n      <td>700</td>\n      <td>4</td>\n      <td>16</td>\n      <td>1015675</td>\n      <td>89</td>\n      <td>4</td>\n      <td>1</td>\n      <td>...</td>\n      <td>81</td>\n      <td>27</td>\n      <td>93</td>\n      <td>151</td>\n      <td>28</td>\n      <td>79</td>\n      <td>25</td>\n      <td>101</td>\n      <td>157</td>\n      <td>129</td>\n    </tr>\n    <tr>\n      <td>1</td>\n      <td>H</td>\n      <td>306</td>\n      <td>8</td>\n      <td>700</td>\n      <td>4</td>\n      <td>16</td>\n      <td>1015675</td>\n      <td>310</td>\n      <td>1</td>\n      <td>1</td>\n      <td>...</td>\n      <td>292</td>\n      <td>401</td>\n      <td>81</td>\n      <td>494</td>\n      <td>346</td>\n      <td>496</td>\n      <td>615</td>\n      <td>286</td>\n      <td>454</td>\n      <td>260</td>\n    </tr>\n    <tr>\n      <td>2</td>\n      <td>H</td>\n      <td>395</td>\n      <td>8</td>\n      <td>100</td>\n      <td>4</td>\n      <td>16</td>\n      <td>1015675</td>\n      <td>106</td>\n      <td>2</td>\n      <td>1</td>\n      <td>...</td>\n      <td>123</td>\n      <td>119</td>\n      <td>168</td>\n      <td>107</td>\n      <td>95</td>\n      <td>101</td>\n      <td>30</td>\n      <td>124</td>\n      <td>106</td>\n      <td>31</td>\n    </tr>\n    <tr>\n      <td>3</td>\n      <td>H</td>\n      <td>506</td>\n      <td>8</td>\n      <td>700</td>\n      <td>4</td>\n      <td>16</td>\n      <td>1015675</td>\n      <td>240</td>\n      <td>4</td>\n      <td>1</td>\n      <td>...</td>\n      <td>68</td>\n      <td>359</td>\n      <td>385</td>\n      <td>71</td>\n      <td>234</td>\n      <td>421</td>\n      <td>76</td>\n      <td>77</td>\n      <td>242</td>\n      <td>231</td>\n    </tr>\n    <tr>\n      <td>4</td>\n      <td>H</td>\n      <td>835</td>\n      <td>8</td>\n      <td>800</td>\n      <td>4</td>\n      <td>16</td>\n      <td>1015675</td>\n      <td>118</td>\n      <td>4</td>\n      <td>1</td>\n      <td>...</td>\n      <td>127</td>\n      <td>36</td>\n      <td>119</td>\n      <td>121</td>\n      <td>116</td>\n      <td>209</td>\n      <td>97</td>\n      <td>176</td>\n      <td>144</td>\n      <td>38</td>\n    </tr>\n  </tbody>\n</table>\n<p>5 rows × 188 columns</p>\n</div>"
     },
     "metadata": {},
     "execution_count": 3
    }
   ],
   "source": [
    "csvData.head()"
   ]
  },
  {
   "cell_type": "code",
   "execution_count": 5,
   "metadata": {},
   "outputs": [],
   "source": [
    "wgtp = pd.Series(csvData[\"WGTP\"]).tolist()"
   ]
  },
  {
   "cell_type": "code",
   "execution_count": 6,
   "metadata": {},
   "outputs": [
    {
     "output_type": "execute_result",
     "data": {
      "text/plain": "[89,\n 310,\n 106,\n 240,\n 118,\n 115,\n 0,\n 35,\n 47,\n 51,\n 114,\n 51,\n 67,\n 0,\n 92,\n 51,\n 71,\n 349,\n 270,\n 83,\n 78,\n 115,\n 314,\n 22,\n 73,\n 73,\n 39,\n 63,\n 88,\n 321,\n 77,\n 105,\n 15,\n 126,\n 113,\n 25,\n 58,\n 87,\n 11,\n 111,\n 106,\n 62,\n 73,\n 101,\n 110,\n 124,\n 63,\n 52,\n 23,\n 72,\n 135,\n 101,\n 102,\n 83,\n 18,\n 34,\n 66,\n 0,\n 75,\n 114,\n 78,\n 39,\n 73,\n 27,\n 49,\n 107,\n 76,\n 100,\n 68,\n 0,\n 44,\n 10,\n 70,\n 90,\n 82,\n 33,\n 63,\n 369,\n 112,\n 102,\n 34,\n 76,\n 253,\n 172,\n 27,\n 0,\n 44,\n 106,\n 63,\n 62,\n 129,\n 110,\n 132,\n 137,\n 62,\n 115,\n 117,\n 23,\n 115,\n 34,\n 108,\n 296,\n 250,\n 80,\n 74,\n 73,\n 0,\n 0,\n 183,\n 0,\n 107,\n 88,\n 295,\n 27,\n 42,\n 83,\n 65,\n 46,\n 125,\n 134,\n 162,\n 34,\n 22,\n 83,\n 120,\n 72,\n 72,\n 100,\n 27,\n 36,\n 86,\n 93,\n 114,\n 85,\n 198,\n 57,\n 15,\n 90,\n 99,\n 0,\n 76,\n 21,\n 130,\n 109,\n 89,\n 51,\n 96,\n 152,\n 197,\n 92,\n 86,\n 211,\n 26,\n 21,\n 0,\n 267,\n 216,\n 105,\n 109,\n 75,\n 110,\n 141,\n 102,\n 87,\n 337,\n 129,\n 150,\n 66,\n 105,\n 405,\n 338,\n 129,\n 87,\n 67,\n 100,\n 105,\n 69,\n 72,\n 157,\n 139,\n 103,\n 39,\n 59,\n 80,\n 205,\n 214,\n 132,\n 116,\n 62,\n 111,\n 26,\n 27,\n 42,\n 101,\n 162,\n 70,\n 116,\n 116,\n 116,\n 63,\n 89,\n 345,\n 122,\n 0,\n 107,\n 154,\n 124,\n 63,\n 71,\n 72,\n 286,\n 56,\n 197,\n 25,\n 124,\n 179,\n 147,\n 114,\n 87,\n 65,\n 18,\n 93,\n 137,\n 298,\n 22,\n 20,\n 75,\n 104,\n 87,\n 435,\n 27,\n 49,\n 120,\n 130,\n 76,\n 34,\n 109,\n 26,\n 58,\n 90,\n 234,\n 70,\n 402,\n 56,\n 19,\n 105,\n 73,\n 117,\n 86,\n 23,\n 114,\n 379,\n 123,\n 23,\n 47,\n 23,\n 30,\n 65,\n 0,\n 103,\n 106,\n 97,\n 0,\n 77,\n 39,\n 337,\n 86,\n 40,\n 75,\n 54,\n 0,\n 95,\n 24,\n 244,\n 44,\n 49,\n 24,\n 115,\n 67,\n 0,\n 126,\n 36,\n 92,\n 97,\n 0,\n 153,\n 40,\n 93,\n 120,\n 28,\n 120,\n 95,\n 119,\n 0,\n 102,\n 18,\n 97,\n 93,\n 236,\n 115,\n 96,\n 68,\n 80,\n 56,\n 190,\n 129,\n 77,\n 294,\n 15,\n 41,\n 25,\n 84,\n 99,\n 26,\n 81,\n 0,\n 99,\n 113,\n 129,\n 119,\n 82,\n 196,\n 77,\n 347,\n 120,\n 69,\n 72,\n 42,\n 69,\n 70,\n 73,\n 75,\n 81,\n 143,\n 45,\n 254,\n 91,\n 91,\n 142,\n 90,\n 100,\n 94,\n 56,\n 128,\n 315,\n 113,\n 109,\n 73,\n 58,\n 127,\n 38,\n 103,\n 34,\n 104,\n 21,\n 22,\n 124,\n 131,\n 94,\n 199,\n 114,\n 44,\n 103,\n 90,\n 123,\n 140,\n 104,\n 79,\n 44,\n 81,\n 84,\n 103,\n 137,\n 96,\n 56,\n 152,\n 310,\n 66,\n 91,\n 18,\n 111,\n 0,\n 116,\n 98,\n 145,\n 98,\n 0,\n 34,\n 38,\n 0,\n 139,\n 36,\n 332,\n 84,\n 98,\n 55,\n 349,\n 216,\n 59,\n 75,\n 110,\n 28,\n 70,\n 378,\n 114,\n 137,\n 22,\n 38,\n 176,\n 89,\n 44,\n 322,\n 112,\n 154,\n 551,\n 23,\n 115,\n 93,\n 137,\n 35,\n 111,\n 233,\n 120,\n 67,\n 105,\n 135,\n 44,\n 18,\n 98,\n 123,\n 71,\n 174,\n 119,\n 32,\n 107,\n 47,\n 90,\n 163,\n 80,\n 27,\n 0,\n 0,\n 30,\n 80,\n 142,\n 303,\n 98,\n 139,\n 332,\n 118,\n 58,\n 49,\n 23,\n 138,\n 118,\n 205,\n 124,\n 218,\n 15,\n 38,\n 76,\n 143,\n 88,\n 138,\n 75,\n 0,\n 99,\n 84,\n 34,\n 76,\n 175,\n 269,\n 93,\n 62,\n 194,\n 289,\n 25,\n 119,\n 38,\n 64,\n 80,\n 97,\n 90,\n 101,\n 72,\n 223,\n 107,\n 15,\n 290,\n 283,\n 19,\n 74,\n 272,\n 97,\n 20,\n 388,\n 97,\n 132,\n 100,\n 36,\n 70,\n 0,\n 89,\n 87,\n 120,\n 79,\n 244,\n 124,\n 69,\n 48,\n 119,\n 24,\n 77,\n 89,\n 86,\n 75,\n 110,\n 132,\n 98,\n 80,\n 50,\n 96,\n 17,\n 87,\n 60,\n 80,\n 0,\n 41,\n 47,\n 60,\n 53,\n 177,\n 24,\n 86,\n 103,\n 0,\n 26,\n 109,\n 73,\n 65,\n 77,\n 183,\n 37,\n 75,\n 44,\n 84,\n 30,\n 126,\n 227,\n 84,\n 0,\n 92,\n 340,\n 0,\n 51,\n 85,\n 64,\n 22,\n 76,\n 65,\n 137,\n 117,\n 107,\n 190,\n 85,\n 74,\n 93,\n 63,\n 118,\n 25,\n 114,\n 73,\n 61,\n 194,\n 120,\n 101,\n 95,\n 68,\n 29,\n 9,\n 121,\n 55,\n 81,\n 25,\n 178,\n 20,\n 70,\n 24,\n 178,\n 68,\n 105,\n 85,\n 110,\n 95,\n 382,\n 93,\n 78,\n 23,\n 113,\n 23,\n 75,\n 97,\n 113,\n 16,\n 100,\n 102,\n 87,\n 15,\n 114,\n 73,\n 19,\n 95,\n 68,\n 210,\n 129,\n 102,\n 29,\n 95,\n 104,\n 26,\n 70,\n 110,\n 198,\n 133,\n 257,\n 235,\n 44,\n 56,\n 114,\n 64,\n 0,\n 109,\n 78,\n 108,\n 104,\n 0,\n 123,\n 34,\n 77,\n 316,\n 0,\n 132,\n 72,\n 86,\n 72,\n 107,\n 0,\n 79,\n 66,\n 36,\n 24,\n 119,\n 110,\n 121,\n 121,\n 163,\n 101,\n 31,\n 77,\n 238,\n 83,\n 88,\n 63,\n 76,\n 43,\n 366,\n 14,\n 84,\n 53,\n 308,\n 107,\n 90,\n 202,\n 17,\n 96,\n 22,\n 69,\n 48,\n 90,\n 112,\n 85,\n 51,\n 75,\n 25,\n 101,\n 21,\n 81,\n 73,\n 0,\n 89,\n 112,\n 69,\n 98,\n 102,\n 78,\n 68,\n 88,\n 34,\n 55,\n 85,\n 19,\n 0,\n 106,\n 167,\n 245,\n 122,\n 68,\n 136,\n 34,\n 100,\n 72,\n 44,\n 120,\n 123,\n 161,\n 69,\n 80,\n 116,\n 36,\n 41,\n 103,\n 86,\n 41,\n 50,\n 51,\n 155,\n 75,\n 11,\n 87,\n 72,\n 47,\n 0,\n 51,\n 0,\n 90,\n 13,\n 0,\n 91,\n 70,\n 58,\n 194,\n 41,\n 100,\n 65,\n 113,\n 100,\n 0,\n 190,\n 232,\n 88,\n 39,\n 50,\n 66,\n 75,\n 119,\n 91,\n 102,\n 117,\n 80,\n 131,\n 70,\n 74,\n 80,\n 50,\n 0,\n 110,\n 91,\n 65,\n 15,\n 114,\n 56,\n 100,\n 375,\n 28,\n 36,\n 100,\n 157,\n 511,\n 0,\n 75,\n 200,\n 65,\n 25,\n 80,\n 102,\n 132,\n 62,\n 67,\n 0,\n 95,\n 14,\n 153,\n 64,\n 95,\n 120,\n 23,\n 62,\n 66,\n 82,\n 123,\n 39,\n 98,\n 65,\n 38,\n 95,\n 86,\n 114,\n 77,\n 94,\n 39,\n 181,\n 97,\n 34,\n 87,\n 101,\n 37,\n 144,\n 90,\n 25,\n 0,\n 126,\n 88,\n 59,\n 88,\n 81,\n 53,\n 55,\n 69,\n 134,\n 130,\n 33,\n 71,\n 78,\n 69,\n 105,\n 177,\n 62,\n 60,\n 94,\n 141,\n 91,\n 64,\n 0,\n 27,\n 131,\n 95,\n 81,\n 18,\n 54,\n 123,\n 0,\n 84,\n 114,\n 177,\n 91,\n 21,\n 110,\n 115,\n 327,\n 104,\n 99,\n 44,\n 61,\n 127,\n 27,\n 92,\n 110,\n 76,\n 107,\n 67,\n 102,\n 31,\n 62,\n 97,\n 108,\n 101,\n 53,\n 0,\n 54,\n 90,\n 54,\n 74,\n 189,\n 53,\n 82,\n 123,\n 100,\n 75,\n 109,\n 99,\n 67,\n 16,\n 66,\n 159,\n 72,\n 61,\n 223,\n 0,\n 93,\n 59,\n 18,\n 84,\n 90,\n 17,\n 19,\n 65,\n 46,\n 82,\n 97,\n 0,\n 46,\n 37,\n 0,\n 312,\n 222,\n 118,\n 463,\n 95,\n 47,\n 21,\n 25,\n 97,\n 13,\n 73,\n 82,\n 133,\n 150,\n 58,\n 139,\n 63,\n 89,\n 74,\n 110,\n 65,\n 29,\n 26,\n 130,\n 0,\n 63,\n 18,\n 59,\n 78,\n 80,\n 75,\n 191,\n 62,\n 48,\n 30,\n 28,\n 37,\n 126,\n 70,\n 114,\n 0,\n 24,\n 83,\n 76,\n 95,\n 80,\n 0,\n 27,\n 63,\n 126,\n 115,\n 105,\n 63,\n 27,\n 85,\n 106,\n 33,\n 56,\n 78,\n 92,\n 69,\n 277,\n 56,\n 134,\n 73,\n 73,\n 66,\n 78,\n 110,\n 22,\n 104,\n 87,\n 60,\n 52,\n 15,\n 74,\n 98,\n 134,\n 89,\n 97,\n 36,\n 74,\n 122,\n 47,\n 47,\n 25,\n 76,\n ...]"
     },
     "metadata": {},
     "execution_count": 6
    }
   ],
   "source": [
    "wgtp"
   ]
  },
  {
   "cell_type": "code",
   "execution_count": null,
   "metadata": {},
   "outputs": [],
   "source": []
  }
 ],
 "metadata": {
  "language_info": {
   "codemirror_mode": {
    "name": "ipython",
    "version": 3
   },
   "file_extension": ".py",
   "mimetype": "text/x-python",
   "name": "python",
   "nbconvert_exporter": "python",
   "pygments_lexer": "ipython3",
   "version": "3.7.4-final"
  },
  "orig_nbformat": 2,
  "kernelspec": {
   "name": "python3",
   "display_name": "Python 3"
  }
 },
 "nbformat": 4,
 "nbformat_minor": 2
}