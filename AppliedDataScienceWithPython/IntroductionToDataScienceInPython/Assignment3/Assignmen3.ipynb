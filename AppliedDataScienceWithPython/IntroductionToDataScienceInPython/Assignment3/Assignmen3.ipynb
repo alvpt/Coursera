{
 "cells": [
  {
   "cell_type": "markdown",
   "metadata": {},
   "source": [
    "---\n",
    "\n",
    "_You are currently looking at **version 1.5** of this notebook. To download notebooks and datafiles, as well as get help on Jupyter notebooks in the Coursera platform, visit the [Jupyter Notebook FAQ](https://www.coursera.org/learn/python-data-analysis/resources/0dhYG) course resource._\n",
    "\n",
    "---"
   ]
  },
  {
   "cell_type": "markdown",
   "metadata": {},
   "source": [
    "# Assignment 3 - More Pandas\n",
    "This assignment requires more individual learning then the last one did - you are encouraged to check out the [pandas documentation](http://pandas.pydata.org/pandas-docs/stable/) to find functions or methods you might not have used yet, or ask questions on [Stack Overflow](http://stackoverflow.com/) and tag them as pandas and python related. And of course, the discussion forums are open for interaction with your peers and the course staff."
   ]
  },
  {
   "cell_type": "markdown",
   "metadata": {},
   "source": [
    "### Question 1 (20%)\n",
    "Load the energy data from the file `Energy Indicators.xls`, which is a list of indicators of [energy supply and renewable electricity production](Energy%20Indicators.xls) from the [United Nations](http://unstats.un.org/unsd/environment/excel_file_tables/2013/Energy%20Indicators.xls) for the year 2013, and should be put into a DataFrame with the variable name of **energy**.\n",
    "\n",
    "Keep in mind that this is an Excel file, and not a comma separated values file. Also, make sure to exclude the footer and header information from the datafile. The first two columns are unneccessary, so you should get rid of them, and you should change the column labels so that the columns are:\n",
    "\n",
    "`['Country', 'Energy Supply', 'Energy Supply per Capita', '% Renewable']`\n",
    "\n",
    "Convert `Energy Supply` to gigajoules (there are 1,000,000 gigajoules in a petajoule). For all countries which have missing data (e.g. data with \"...\") make sure this is reflected as `np.NaN` values.\n",
    "\n",
    "Rename the following list of countries (for use in later questions):\n",
    "\n",
    "```\"Republic of Korea\": \"South Korea\",\n",
    "\"United States of America\": \"United States\",\n",
    "\"United Kingdom of Great Britain and Northern Ireland\": \"United Kingdom\",\n",
    "\"China, Hong Kong Special Administrative Region\": \"Hong Kong\"```\n",
    "\n",
    "There are also several countries with numbers and/or parenthesis in their name. Be sure to remove these, \n",
    "\n",
    "e.g. \n",
    "\n",
    "`'Bolivia (Plurinational State of)'` should be `'Bolivia'`, \n",
    "\n",
    "`'Switzerland17'` should be `'Switzerland'`.\n",
    "\n",
    "<br>\n",
    "\n",
    "Next, load the GDP data from the file `world_bank.csv`, which is a csv containing countries' GDP from 1960 to 2015 from [World Bank](http://data.worldbank.org/indicator/NY.GDP.MKTP.CD). Call this DataFrame **GDP**. \n",
    "\n",
    "Make sure to skip the header, and rename the following list of countries:\n",
    "\n",
    "```\"Korea, Rep.\": \"South Korea\", \n",
    "\"Iran, Islamic Rep.\": \"Iran\",\n",
    "\"Hong Kong SAR, China\": \"Hong Kong\"```\n",
    "\n",
    "<br>\n",
    "\n",
    "Finally, load the [Sciamgo Journal and Country Rank data for Energy Engineering and Power Technology](http://www.scimagojr.com/countryrank.php?category=2102) from the file `scimagojr-3.xlsx`, which ranks countries based on their journal contributions in the aforementioned area. Call this DataFrame **ScimEn**.\n",
    "\n",
    "Join the three datasets: GDP, Energy, and ScimEn into a new dataset (using the intersection of country names). Use only the last 10 years (2006-2015) of GDP data and only the top 15 countries by Scimagojr 'Rank' (Rank 1 through 15). \n",
    "\n",
    "The index of this DataFrame should be the name of the country, and the columns should be ['Rank', 'Documents', 'Citable documents', 'Citations', 'Self-citations',\n",
    "       'Citations per document', 'H index', 'Energy Supply',\n",
    "       'Energy Supply per Capita', '% Renewable', '2006', '2007', '2008',\n",
    "       '2009', '2010', '2011', '2012', '2013', '2014', '2015'].\n",
    "\n",
    "*This function should return a DataFrame with 20 columns and 15 entries.*"
   ]
  },
  {
   "cell_type": "code",
   "execution_count": 20,
   "metadata": {
    "umich_part_id": "009",
    "umich_partlist_id": "003"
   },
   "outputs": [
    {
     "output_type": "execute_result",
     "data": {
      "text/plain": "                    Rank  Documents  Citable documents  Citations  \\\nCountry                                                             \nChina                  1     127050             126767     597237   \nUnited States          2      96661              94747     792274   \nJapan                  3      30504              30287     223024   \nUnited Kingdom         4      20944              20357     206091   \nRussian Federation     5      18534              18301      34266   \nCanada                 6      17899              17620     215003   \nGermany                7      17027              16831     140566   \nIndia                  8      15005              14841     128763   \nFrance                 9      13153              12973     130632   \nSouth Korea           10      11983              11923     114675   \nItaly                 11      10964              10794     111850   \nSpain                 12       9428               9330     123336   \nIran                  13       8896               8819      57470   \nAustralia             14       8831               8725      90765   \nBrazil                15       8668               8596      60702   \n\n                    Self-citations  Citations per document  H index  \\\nCountry                                                               \nChina                       411683                    4.70      138   \nUnited States               265436                    8.20      230   \nJapan                        61554                    7.31      134   \nUnited Kingdom               37874                    9.84      139   \nRussian Federation           12422                    1.85       57   \nCanada                       40930                   12.01      149   \nGermany                      27426                    8.26      126   \nIndia                        37209                    8.58      115   \nFrance                       28601                    9.93      114   \nSouth Korea                  22595                    9.57      104   \nItaly                        26661                   10.20      106   \nSpain                        23964                   13.08      115   \nIran                         19125                    6.46       72   \nAustralia                    15606                   10.28      107   \nBrazil                       14396                    7.00       86   \n\n                    Energy Supply  Energy Supply per Capita  % Renewable  \\\nCountry                                                                    \nChina                1.271910e+11                      93.0    19.754910   \nUnited States        9.083800e+10                     286.0    11.570980   \nJapan                1.898400e+10                     149.0    10.232820   \nUnited Kingdom       7.920000e+09                     124.0    10.600470   \nRussian Federation   3.070900e+10                     214.0    17.288680   \nCanada               1.043100e+10                     296.0    61.945430   \nGermany              1.326100e+10                     165.0    17.901530   \nIndia                3.319500e+10                      26.0    14.969080   \nFrance               1.059700e+10                     166.0    17.020280   \nSouth Korea          1.100700e+10                     221.0     2.279353   \nItaly                6.530000e+09                     109.0    33.667230   \nSpain                4.923000e+09                     106.0    37.968590   \nIran                 9.172000e+09                     119.0     5.707721   \nAustralia            5.386000e+09                     231.0    11.810810   \nBrazil               1.214900e+10                      59.0    69.648030   \n\n                            2006          2007          2008          2009  \\\nCountry                                                                      \nChina               3.992331e+12  4.559041e+12  4.997775e+12  5.459247e+12   \nUnited States       1.479230e+13  1.505540e+13  1.501149e+13  1.459484e+13   \nJapan               5.496542e+12  5.617036e+12  5.558527e+12  5.251308e+12   \nUnited Kingdom      2.419631e+12  2.482203e+12  2.470614e+12  2.367048e+12   \nRussian Federation  1.385793e+12  1.504071e+12  1.583004e+12  1.459199e+12   \nCanada              1.564469e+12  1.596740e+12  1.612713e+12  1.565145e+12   \nGermany             3.332891e+12  3.441561e+12  3.478809e+12  3.283340e+12   \nIndia               1.265894e+12  1.374865e+12  1.428361e+12  1.549483e+12   \nFrance              2.607840e+12  2.669424e+12  2.674637e+12  2.595967e+12   \nSouth Korea         9.410199e+11  9.924316e+11  1.020510e+12  1.027730e+12   \nItaly               2.202170e+12  2.234627e+12  2.211154e+12  2.089938e+12   \nSpain               1.414823e+12  1.468146e+12  1.484530e+12  1.431475e+12   \nIran                3.895523e+11  4.250646e+11  4.289909e+11  4.389208e+11   \nAustralia           1.021939e+12  1.060340e+12  1.099644e+12  1.119654e+12   \nBrazil              1.845080e+12  1.957118e+12  2.056809e+12  2.054215e+12   \n\n                            2010          2011          2012          2013  \\\nCountry                                                                      \nChina               6.039659e+12  6.612490e+12  7.124978e+12  7.672448e+12   \nUnited States       1.496437e+13  1.520402e+13  1.554216e+13  1.577367e+13   \nJapan               5.498718e+12  5.473738e+12  5.569102e+12  5.644659e+12   \nUnited Kingdom      2.403504e+12  2.450911e+12  2.479809e+12  2.533370e+12   \nRussian Federation  1.524917e+12  1.589943e+12  1.645876e+12  1.666934e+12   \nCanada              1.613406e+12  1.664087e+12  1.693133e+12  1.730688e+12   \nGermany             3.417298e+12  3.542371e+12  3.556724e+12  3.567317e+12   \nIndia               1.708459e+12  1.821872e+12  1.924235e+12  2.051982e+12   \nFrance              2.646995e+12  2.702032e+12  2.706968e+12  2.722567e+12   \nSouth Korea         1.094499e+12  1.134796e+12  1.160809e+12  1.194429e+12   \nItaly               2.125185e+12  2.137439e+12  2.077184e+12  2.040871e+12   \nSpain               1.431673e+12  1.417355e+12  1.380216e+12  1.357139e+12   \nIran                4.677902e+11  4.853309e+11  4.532569e+11  4.445926e+11   \nAustralia           1.142251e+12  1.169431e+12  1.211913e+12  1.241484e+12   \nBrazil              2.208872e+12  2.295245e+12  2.339209e+12  2.409740e+12   \n\n                            2014          2015  \nCountry                                         \nChina               8.230121e+12  8.797999e+12  \nUnited States       1.615662e+13  1.654857e+13  \nJapan               5.642884e+12  5.669563e+12  \nUnited Kingdom      2.605643e+12  2.666333e+12  \nRussian Federation  1.678709e+12  1.616149e+12  \nCanada              1.773486e+12  1.792609e+12  \nGermany             3.624386e+12  3.685556e+12  \nIndia               2.200617e+12  2.367206e+12  \nFrance              2.729632e+12  2.761185e+12  \nSouth Korea         1.234340e+12  1.266580e+12  \nItaly               2.033868e+12  2.049316e+12  \nSpain               1.375605e+12  1.419821e+12  \nIran                4.639027e+11           NaN  \nAustralia           1.272520e+12  1.301251e+12  \nBrazil              2.412231e+12  2.319423e+12  ",
      "text/html": "<div>\n<style scoped>\n    .dataframe tbody tr th:only-of-type {\n        vertical-align: middle;\n    }\n\n    .dataframe tbody tr th {\n        vertical-align: top;\n    }\n\n    .dataframe thead th {\n        text-align: right;\n    }\n</style>\n<table border=\"1\" class=\"dataframe\">\n  <thead>\n    <tr style=\"text-align: right;\">\n      <th></th>\n      <th>Rank</th>\n      <th>Documents</th>\n      <th>Citable documents</th>\n      <th>Citations</th>\n      <th>Self-citations</th>\n      <th>Citations per document</th>\n      <th>H index</th>\n      <th>Energy Supply</th>\n      <th>Energy Supply per Capita</th>\n      <th>% Renewable</th>\n      <th>2006</th>\n      <th>2007</th>\n      <th>2008</th>\n      <th>2009</th>\n      <th>2010</th>\n      <th>2011</th>\n      <th>2012</th>\n      <th>2013</th>\n      <th>2014</th>\n      <th>2015</th>\n    </tr>\n    <tr>\n      <th>Country</th>\n      <th></th>\n      <th></th>\n      <th></th>\n      <th></th>\n      <th></th>\n      <th></th>\n      <th></th>\n      <th></th>\n      <th></th>\n      <th></th>\n      <th></th>\n      <th></th>\n      <th></th>\n      <th></th>\n      <th></th>\n      <th></th>\n      <th></th>\n      <th></th>\n      <th></th>\n      <th></th>\n    </tr>\n  </thead>\n  <tbody>\n    <tr>\n      <td>China</td>\n      <td>1</td>\n      <td>127050</td>\n      <td>126767</td>\n      <td>597237</td>\n      <td>411683</td>\n      <td>4.70</td>\n      <td>138</td>\n      <td>1.271910e+11</td>\n      <td>93.0</td>\n      <td>19.754910</td>\n      <td>3.992331e+12</td>\n      <td>4.559041e+12</td>\n      <td>4.997775e+12</td>\n      <td>5.459247e+12</td>\n      <td>6.039659e+12</td>\n      <td>6.612490e+12</td>\n      <td>7.124978e+12</td>\n      <td>7.672448e+12</td>\n      <td>8.230121e+12</td>\n      <td>8.797999e+12</td>\n    </tr>\n    <tr>\n      <td>United States</td>\n      <td>2</td>\n      <td>96661</td>\n      <td>94747</td>\n      <td>792274</td>\n      <td>265436</td>\n      <td>8.20</td>\n      <td>230</td>\n      <td>9.083800e+10</td>\n      <td>286.0</td>\n      <td>11.570980</td>\n      <td>1.479230e+13</td>\n      <td>1.505540e+13</td>\n      <td>1.501149e+13</td>\n      <td>1.459484e+13</td>\n      <td>1.496437e+13</td>\n      <td>1.520402e+13</td>\n      <td>1.554216e+13</td>\n      <td>1.577367e+13</td>\n      <td>1.615662e+13</td>\n      <td>1.654857e+13</td>\n    </tr>\n    <tr>\n      <td>Japan</td>\n      <td>3</td>\n      <td>30504</td>\n      <td>30287</td>\n      <td>223024</td>\n      <td>61554</td>\n      <td>7.31</td>\n      <td>134</td>\n      <td>1.898400e+10</td>\n      <td>149.0</td>\n      <td>10.232820</td>\n      <td>5.496542e+12</td>\n      <td>5.617036e+12</td>\n      <td>5.558527e+12</td>\n      <td>5.251308e+12</td>\n      <td>5.498718e+12</td>\n      <td>5.473738e+12</td>\n      <td>5.569102e+12</td>\n      <td>5.644659e+12</td>\n      <td>5.642884e+12</td>\n      <td>5.669563e+12</td>\n    </tr>\n    <tr>\n      <td>United Kingdom</td>\n      <td>4</td>\n      <td>20944</td>\n      <td>20357</td>\n      <td>206091</td>\n      <td>37874</td>\n      <td>9.84</td>\n      <td>139</td>\n      <td>7.920000e+09</td>\n      <td>124.0</td>\n      <td>10.600470</td>\n      <td>2.419631e+12</td>\n      <td>2.482203e+12</td>\n      <td>2.470614e+12</td>\n      <td>2.367048e+12</td>\n      <td>2.403504e+12</td>\n      <td>2.450911e+12</td>\n      <td>2.479809e+12</td>\n      <td>2.533370e+12</td>\n      <td>2.605643e+12</td>\n      <td>2.666333e+12</td>\n    </tr>\n    <tr>\n      <td>Russian Federation</td>\n      <td>5</td>\n      <td>18534</td>\n      <td>18301</td>\n      <td>34266</td>\n      <td>12422</td>\n      <td>1.85</td>\n      <td>57</td>\n      <td>3.070900e+10</td>\n      <td>214.0</td>\n      <td>17.288680</td>\n      <td>1.385793e+12</td>\n      <td>1.504071e+12</td>\n      <td>1.583004e+12</td>\n      <td>1.459199e+12</td>\n      <td>1.524917e+12</td>\n      <td>1.589943e+12</td>\n      <td>1.645876e+12</td>\n      <td>1.666934e+12</td>\n      <td>1.678709e+12</td>\n      <td>1.616149e+12</td>\n    </tr>\n    <tr>\n      <td>Canada</td>\n      <td>6</td>\n      <td>17899</td>\n      <td>17620</td>\n      <td>215003</td>\n      <td>40930</td>\n      <td>12.01</td>\n      <td>149</td>\n      <td>1.043100e+10</td>\n      <td>296.0</td>\n      <td>61.945430</td>\n      <td>1.564469e+12</td>\n      <td>1.596740e+12</td>\n      <td>1.612713e+12</td>\n      <td>1.565145e+12</td>\n      <td>1.613406e+12</td>\n      <td>1.664087e+12</td>\n      <td>1.693133e+12</td>\n      <td>1.730688e+12</td>\n      <td>1.773486e+12</td>\n      <td>1.792609e+12</td>\n    </tr>\n    <tr>\n      <td>Germany</td>\n      <td>7</td>\n      <td>17027</td>\n      <td>16831</td>\n      <td>140566</td>\n      <td>27426</td>\n      <td>8.26</td>\n      <td>126</td>\n      <td>1.326100e+10</td>\n      <td>165.0</td>\n      <td>17.901530</td>\n      <td>3.332891e+12</td>\n      <td>3.441561e+12</td>\n      <td>3.478809e+12</td>\n      <td>3.283340e+12</td>\n      <td>3.417298e+12</td>\n      <td>3.542371e+12</td>\n      <td>3.556724e+12</td>\n      <td>3.567317e+12</td>\n      <td>3.624386e+12</td>\n      <td>3.685556e+12</td>\n    </tr>\n    <tr>\n      <td>India</td>\n      <td>8</td>\n      <td>15005</td>\n      <td>14841</td>\n      <td>128763</td>\n      <td>37209</td>\n      <td>8.58</td>\n      <td>115</td>\n      <td>3.319500e+10</td>\n      <td>26.0</td>\n      <td>14.969080</td>\n      <td>1.265894e+12</td>\n      <td>1.374865e+12</td>\n      <td>1.428361e+12</td>\n      <td>1.549483e+12</td>\n      <td>1.708459e+12</td>\n      <td>1.821872e+12</td>\n      <td>1.924235e+12</td>\n      <td>2.051982e+12</td>\n      <td>2.200617e+12</td>\n      <td>2.367206e+12</td>\n    </tr>\n    <tr>\n      <td>France</td>\n      <td>9</td>\n      <td>13153</td>\n      <td>12973</td>\n      <td>130632</td>\n      <td>28601</td>\n      <td>9.93</td>\n      <td>114</td>\n      <td>1.059700e+10</td>\n      <td>166.0</td>\n      <td>17.020280</td>\n      <td>2.607840e+12</td>\n      <td>2.669424e+12</td>\n      <td>2.674637e+12</td>\n      <td>2.595967e+12</td>\n      <td>2.646995e+12</td>\n      <td>2.702032e+12</td>\n      <td>2.706968e+12</td>\n      <td>2.722567e+12</td>\n      <td>2.729632e+12</td>\n      <td>2.761185e+12</td>\n    </tr>\n    <tr>\n      <td>South Korea</td>\n      <td>10</td>\n      <td>11983</td>\n      <td>11923</td>\n      <td>114675</td>\n      <td>22595</td>\n      <td>9.57</td>\n      <td>104</td>\n      <td>1.100700e+10</td>\n      <td>221.0</td>\n      <td>2.279353</td>\n      <td>9.410199e+11</td>\n      <td>9.924316e+11</td>\n      <td>1.020510e+12</td>\n      <td>1.027730e+12</td>\n      <td>1.094499e+12</td>\n      <td>1.134796e+12</td>\n      <td>1.160809e+12</td>\n      <td>1.194429e+12</td>\n      <td>1.234340e+12</td>\n      <td>1.266580e+12</td>\n    </tr>\n    <tr>\n      <td>Italy</td>\n      <td>11</td>\n      <td>10964</td>\n      <td>10794</td>\n      <td>111850</td>\n      <td>26661</td>\n      <td>10.20</td>\n      <td>106</td>\n      <td>6.530000e+09</td>\n      <td>109.0</td>\n      <td>33.667230</td>\n      <td>2.202170e+12</td>\n      <td>2.234627e+12</td>\n      <td>2.211154e+12</td>\n      <td>2.089938e+12</td>\n      <td>2.125185e+12</td>\n      <td>2.137439e+12</td>\n      <td>2.077184e+12</td>\n      <td>2.040871e+12</td>\n      <td>2.033868e+12</td>\n      <td>2.049316e+12</td>\n    </tr>\n    <tr>\n      <td>Spain</td>\n      <td>12</td>\n      <td>9428</td>\n      <td>9330</td>\n      <td>123336</td>\n      <td>23964</td>\n      <td>13.08</td>\n      <td>115</td>\n      <td>4.923000e+09</td>\n      <td>106.0</td>\n      <td>37.968590</td>\n      <td>1.414823e+12</td>\n      <td>1.468146e+12</td>\n      <td>1.484530e+12</td>\n      <td>1.431475e+12</td>\n      <td>1.431673e+12</td>\n      <td>1.417355e+12</td>\n      <td>1.380216e+12</td>\n      <td>1.357139e+12</td>\n      <td>1.375605e+12</td>\n      <td>1.419821e+12</td>\n    </tr>\n    <tr>\n      <td>Iran</td>\n      <td>13</td>\n      <td>8896</td>\n      <td>8819</td>\n      <td>57470</td>\n      <td>19125</td>\n      <td>6.46</td>\n      <td>72</td>\n      <td>9.172000e+09</td>\n      <td>119.0</td>\n      <td>5.707721</td>\n      <td>3.895523e+11</td>\n      <td>4.250646e+11</td>\n      <td>4.289909e+11</td>\n      <td>4.389208e+11</td>\n      <td>4.677902e+11</td>\n      <td>4.853309e+11</td>\n      <td>4.532569e+11</td>\n      <td>4.445926e+11</td>\n      <td>4.639027e+11</td>\n      <td>NaN</td>\n    </tr>\n    <tr>\n      <td>Australia</td>\n      <td>14</td>\n      <td>8831</td>\n      <td>8725</td>\n      <td>90765</td>\n      <td>15606</td>\n      <td>10.28</td>\n      <td>107</td>\n      <td>5.386000e+09</td>\n      <td>231.0</td>\n      <td>11.810810</td>\n      <td>1.021939e+12</td>\n      <td>1.060340e+12</td>\n      <td>1.099644e+12</td>\n      <td>1.119654e+12</td>\n      <td>1.142251e+12</td>\n      <td>1.169431e+12</td>\n      <td>1.211913e+12</td>\n      <td>1.241484e+12</td>\n      <td>1.272520e+12</td>\n      <td>1.301251e+12</td>\n    </tr>\n    <tr>\n      <td>Brazil</td>\n      <td>15</td>\n      <td>8668</td>\n      <td>8596</td>\n      <td>60702</td>\n      <td>14396</td>\n      <td>7.00</td>\n      <td>86</td>\n      <td>1.214900e+10</td>\n      <td>59.0</td>\n      <td>69.648030</td>\n      <td>1.845080e+12</td>\n      <td>1.957118e+12</td>\n      <td>2.056809e+12</td>\n      <td>2.054215e+12</td>\n      <td>2.208872e+12</td>\n      <td>2.295245e+12</td>\n      <td>2.339209e+12</td>\n      <td>2.409740e+12</td>\n      <td>2.412231e+12</td>\n      <td>2.319423e+12</td>\n    </tr>\n  </tbody>\n</table>\n</div>"
     },
     "metadata": {},
     "execution_count": 20
    }
   ],
   "source": [
    "import pandas as pd\n",
    "import numpy as np\n",
    "\n",
    "def answer_one():\n",
    "    final_row_of_file =  283\n",
    "    final_row_to_be_read = 245\n",
    "    rows_to_skip_footer = final_row_of_file-final_row_to_be_read   \n",
    "    \n",
    "    energy = pd.read_excel('data\\\\Energy Indicators.xls', skiprows=18,\n",
    "                           usecols = [2,3,4,5,6,7], header=None,\n",
    "                           skipfooter = rows_to_skip_footer)\n",
    "    \n",
    "    energy = energy.rename(columns={2:'Country', 3:'Energy Supply',\n",
    "                                4:'Energy Supply per Capita',\n",
    "                                5:'% Renewable'})\n",
    "\n",
    "    \n",
    "    susbstitute_empty = lambda x:(x.replace('...', np.NaN))\n",
    "    \n",
    "    energy = energy.apply(susbstitute_empty)\n",
    "    \n",
    "    peta_to_giga = lambda x:x*1000000\n",
    "    \n",
    "    supply_petajoules = list(energy['Energy Supply'])\n",
    "    \n",
    "    supply_gigajoules = list(map(peta_to_giga, supply_petajoules))\n",
    "    \n",
    "    energy['Energy Supply']=supply_gigajoules\n",
    "    \n",
    "    \n",
    "    \n",
    "    countries=list(energy['Country'])\n",
    "    \n",
    "    counter = 0\n",
    "    for countrie in countries:\n",
    "        if countrie=='Australia1':\n",
    "            countries[counter]='Australia'\n",
    "            \n",
    "        if countrie=='Bolivia (Plurinational State of)':\n",
    "            countries[counter]='Bolivia'\n",
    "        \n",
    "        if countrie=='China, Hong Kong Special Administrative Region3':\n",
    "            countries[counter]='Hong Kong'\n",
    "            \n",
    "        if countrie=='China, Macao Special Administrative Region4':\n",
    "            countries[counter]='Macao'\n",
    "        \n",
    "        if countrie=='China2':\n",
    "            countries[counter]='China'\n",
    "            \n",
    "        if countrie=='Denmark5':\n",
    "            countries[counter]='Denmark'\n",
    "            \n",
    "        if countrie=='France6':\n",
    "            countries[counter]='France'\n",
    "            \n",
    "        if countrie=='Falkland Islands (Malvinas)':\n",
    "            countries[counter]='Falkland Islands'\n",
    "            \n",
    "        if countrie=='Indonesia8':\n",
    "            countries[counter]='Indonesia'\n",
    "            \n",
    "        if countrie=='Iran (Islamic Republic of)':\n",
    "            countries[counter]='Iran'\n",
    "        \n",
    "        if countrie=='Italy9':\n",
    "            countries[counter]='Italy'\n",
    "            \n",
    "        if countrie=='Japan10':\n",
    "            countries[counter]='Japan'\n",
    "            \n",
    "        if countrie=='Kuwait11':\n",
    "            countries[counter]='Kuwait'\n",
    "            \n",
    "        if countrie=='Micronesia (Federated States of)':\n",
    "            countries[counter]='Micronesia'\n",
    "        \n",
    "        if countrie=='Netherlands12':\n",
    "            countries[counter]='Netherlands'    \n",
    "        \n",
    "        if countrie=='Portugal13':\n",
    "            countries[counter]='Portugal'\n",
    "        \n",
    "        if countrie=='Republic of Korea':\n",
    "            countries[counter]='South Korea'\n",
    "        \n",
    "        if countrie=='Saudi Arabia14':\n",
    "            countries[counter]='Saudi Arabia'\n",
    "            \n",
    "        if countrie=='Serbia15':\n",
    "            countries[counter]='Serbia'\n",
    "        \n",
    "        if countrie=='Sint Maarten (Dutch part)':\n",
    "            countries[counter]='Sint Maarten'\n",
    "        \n",
    "        if countrie=='Spain16':\n",
    "            countries[counter]='Spain'\n",
    "            \n",
    "        if countrie=='Switzerland17':\n",
    "            countries[counter]='Switzerland'\n",
    "        \n",
    "        if countrie=='Ukraine18':\n",
    "            countries[counter]='Ukraine'\n",
    "        \n",
    "        if countrie=='United Kingdom of Great Britain and Northern Ireland19':\n",
    "            countries[counter]='United Kingdom'\n",
    "        \n",
    "        if countrie=='United States of America20':\n",
    "            countries[counter]='United States'\n",
    "               \n",
    "        if countrie=='Venezuela (Bolivarian Republic of)':\n",
    "            countries[counter]='Venezuela'\n",
    "        \n",
    "        counter = counter+1\n",
    "    \n",
    "    energy['Country']=countries\n",
    "    \n",
    "    \n",
    "    \n",
    "    \n",
    "    \n",
    "    GDP = pd.read_csv('data\\\\world_bank.csv', delimiter=',', skiprows=4)\n",
    "    \n",
    "    countries=list(GDP['Country Name'])\n",
    "    \n",
    "    counter = 0\n",
    "    for countrie in countries:\n",
    "        if countrie=='Korea, Rep.':\n",
    "            countries[counter]='South Korea'\n",
    "            \n",
    "        if countrie=='Iran, Islamic Rep.':\n",
    "            countries[counter]='Iran'\n",
    "            \n",
    "        if countrie=='Hong Kong SAR, China':\n",
    "            countries[counter]='Hong Kong'\n",
    "            \n",
    "        counter = counter+1\n",
    "        \n",
    "    \n",
    "    GDP['Country Name']=countries\n",
    "       \n",
    "    \n",
    "    ScimEn = pd.read_excel('data\\\\scimagojr-3.xlsx')\n",
    "    \n",
    "    \n",
    "    ScimEn_for_joint = ScimEn.set_index(ScimEn['Country']).drop(['Country'], axis=1)\n",
    "    energy_for_joint = energy.set_index(energy['Country']).drop(['Country'], axis=1)\n",
    "    GDP_for_joint = GDP[['Country Name', '2006', '2007', '2008', '2009', '2010', '2011', '2012', '2013',\n",
    "                         '2014', '2015']]\n",
    "    GDP_for_joint = GDP_for_joint.rename(columns={'Country Name': 'Country'})\n",
    "    \n",
    "    joint_df = pd.merge(ScimEn_for_joint, energy_for_joint, on='Country', how='inner')\n",
    "    \n",
    "    joint_df = pd.merge(joint_df, GDP_for_joint, on='Country', how='inner')\n",
    "    \n",
    "    joint_df = joint_df.set_index('Country')[0:15]\n",
    "    \n",
    "    \n",
    "    return joint_df\n",
    "\n",
    "answer_one()"
   ]
  },
  {
   "cell_type": "markdown",
   "metadata": {},
   "source": [
    "### Question 2 (6.6%)\n",
    "The previous question joined three datasets then reduced this to just the top 15 entries. When you joined the datasets, but before you reduced this to the top 15 items, how many entries did you lose?\n",
    "\n",
    "*This function should return a single number.*"
   ]
  },
  {
   "cell_type": "code",
   "execution_count": 21,
   "metadata": {},
   "outputs": [
    {
     "output_type": "display_data",
     "data": {
      "text/plain": "<IPython.core.display.HTML object>",
      "text/html": "<svg width=\"800\" height=\"300\">\n  <circle cx=\"150\" cy=\"180\" r=\"80\" fill-opacity=\"0.2\" stroke=\"black\" stroke-width=\"2\" fill=\"blue\" />\n  <circle cx=\"200\" cy=\"100\" r=\"80\" fill-opacity=\"0.2\" stroke=\"black\" stroke-width=\"2\" fill=\"red\" />\n  <circle cx=\"100\" cy=\"100\" r=\"80\" fill-opacity=\"0.2\" stroke=\"black\" stroke-width=\"2\" fill=\"green\" />\n  <line x1=\"150\" y1=\"125\" x2=\"300\" y2=\"150\" stroke=\"black\" stroke-width=\"2\" fill=\"black\" stroke-dasharray=\"5,3\"/>\n  <text  x=\"300\" y=\"165\" font-family=\"Verdana\" font-size=\"35\">Everything but this!</text>\n</svg>\n"
     },
     "metadata": {}
    }
   ],
   "source": [
    "%%HTML\n",
    "<svg width=\"800\" height=\"300\">\n",
    "  <circle cx=\"150\" cy=\"180\" r=\"80\" fill-opacity=\"0.2\" stroke=\"black\" stroke-width=\"2\" fill=\"blue\" />\n",
    "  <circle cx=\"200\" cy=\"100\" r=\"80\" fill-opacity=\"0.2\" stroke=\"black\" stroke-width=\"2\" fill=\"red\" />\n",
    "  <circle cx=\"100\" cy=\"100\" r=\"80\" fill-opacity=\"0.2\" stroke=\"black\" stroke-width=\"2\" fill=\"green\" />\n",
    "  <line x1=\"150\" y1=\"125\" x2=\"300\" y2=\"150\" stroke=\"black\" stroke-width=\"2\" fill=\"black\" stroke-dasharray=\"5,3\"/>\n",
    "  <text  x=\"300\" y=\"165\" font-family=\"Verdana\" font-size=\"35\">Everything but this!</text>\n",
    "</svg>"
   ]
  },
  {
   "cell_type": "code",
   "execution_count": 22,
   "metadata": {
    "umich_part_id": "010",
    "umich_partlist_id": "003"
   },
   "outputs": [
    {
     "output_type": "execute_result",
     "data": {
      "text/plain": "130"
     },
     "metadata": {},
     "execution_count": 22
    }
   ],
   "source": [
    "def answer_two():\n",
    "    \n",
    "    import pandas as pd\n",
    "    import numpy as np\n",
    "    import re\n",
    "    \n",
    "    energy = pd.read_excel('data\\\\Energy Indicators.xls',skip_footer=38,skiprows = 17)\n",
    "    energy = energy.ix[:,2:]\n",
    "    energy.columns = ['Country', 'Energy Supply', 'Energy Supply per Capita', '% Renewable']\n",
    "    energy['Energy Supply'] *= 1000000\n",
    "    energy.replace('...',np.NaN,inplace=True)\n",
    "    energy['Energy Supply'].replace('...',np.NaN,regex=True,inplace = True)\n",
    "    energy['Country'] = energy['Country'].apply(lambda x: re.sub(r'\\(.*\\)', '', x))\n",
    "    energy['Country'] = energy['Country'].apply(lambda x: re.sub(r'\\d+$', '', x))\n",
    "    \n",
    "    energy['Country'].replace(\"Republic of Korea\", \"South Korea\",inplace=True)\n",
    "    energy['Country'].replace(\"United States of America\", \"United States\",inplace=True)\n",
    "    energy['Country'].replace(\"United Kingdom of Great Britain and Northern Ireland\", \"United Kingdom\",inplace=True)\n",
    "    energy['Country'].replace(\"China, Hong Kong Special Administrative Region\", \"Hong Kong\",inplace=True)\n",
    "    \n",
    "    GDP = pd.read_csv('data\\\\world_bank.csv',skiprows = 4)\n",
    "    GDP['Country Name'].replace(\"Korea, Rep.\", \"South Korea\",inplace=True)\n",
    "    GDP['Country Name'].replace(\"Iran, Islamic Rep.\", \"Iran\",inplace=True)\n",
    "    GDP['Country Name'].replace(\"Hong Kong SAR, China\", \"Hong Kong\",inplace=True)\n",
    "    \n",
    "    ScimEn = pd.read_excel('data\\\\scimagojr-3.xlsx')\n",
    "\n",
    "    \n",
    "    temp1 = pd.merge(ScimEn,energy,how = 'outer',left_on = 'Country',right_on='Country')\n",
    "    c_to_keep = ['Country Name','2006','2007','2008','2009','2010','2011','2012','2013','2014','2015']\n",
    "    temp1 = pd.merge(temp1,GDP[c_to_keep],how = 'outer',left_on='Country', right_on = 'Country Name')\n",
    "\n",
    "    temp2 = pd.merge(ScimEn,energy,how = 'left',left_on = 'Country',right_on='Country')\n",
    "    c_to_keep = ['Country Name','2006','2007','2008','2009','2010','2011','2012','2013','2014','2015']\n",
    "    temp2 = pd.merge(temp2,GDP[c_to_keep],how = 'left',left_on='Country', right_on = 'Country Name')\n",
    "    dif = temp1.shape[0] - temp2.shape[0]\n",
    "\n",
    "    return dif\n",
    "\n",
    "\n",
    "\n",
    "answer_two()\n",
    "   \n",
    ""
   ]
  },
  {
   "cell_type": "markdown",
   "metadata": {},
   "source": [
    "## Answer the following questions in the context of only the top 15 countries by Scimagojr Rank (aka the DataFrame returned by `answer_one()`)"
   ]
  },
  {
   "cell_type": "markdown",
   "metadata": {},
   "source": [
    "### Question 3 (6.6%)\n",
    "What is the average GDP over the last 10 years for each country? (exclude missing values from this calculation.)\n",
    "\n",
    "*This function should return a Series named `avgGDP` with 15 countries and their average GDP sorted in descending order.*"
   ]
  },
  {
   "cell_type": "code",
   "execution_count": 23,
   "metadata": {
    "scrolled": true,
    "umich_part_id": "011",
    "umich_partlist_id": "003"
   },
   "outputs": [
    {
     "output_type": "execute_result",
     "data": {
      "text/plain": "United States         1.536434e+13\nChina                 6.348609e+12\nJapan                 5.542208e+12\nGermany               3.493025e+12\nFrance                2.681725e+12\nUnited Kingdom        2.487907e+12\nBrazil                2.189794e+12\nItaly                 2.120175e+12\nIndia                 1.769297e+12\nCanada                1.660647e+12\nRussian Federation    1.565459e+12\nSpain                 1.418078e+12\nAustralia             1.164043e+12\nSouth Korea           1.106715e+12\nIran                  4.441558e+11\nName: avg GDP, dtype: float64"
     },
     "metadata": {},
     "execution_count": 23
    }
   ],
   "source": [
    "def answer_three():\n",
    "    Top15 = answer_one()\n",
    "    \n",
    "    Top15_GDP = Top15[['2006', '2007', '2008', '2009', '2010', '2011', '2012', '2013','2014', '2015']]\n",
    "    Top15_GDP.fillna(value=0, inplace=True)\n",
    "    \n",
    "    \n",
    "    avgGDP_countries = list(Top15_GDP.index)\n",
    "    avgGDP_values =  [0.0]*15   \n",
    "    avgGDP = pd.Series(data=avgGDP_values, index=avgGDP_countries)\n",
    "    \n",
    "\n",
    "    \n",
    "    \n",
    "    for country in avgGDP_countries:\n",
    "        total=0.0\n",
    "        gdp_list = list(Top15_GDP.loc[country])\n",
    "        \n",
    "        for year in range(len(gdp_list)):\n",
    "            total = float(total) + gdp_list[year]\n",
    "            \n",
    "\n",
    "        avgGDP[country] = float(total/10)\n",
    "        \n",
    "    avgGDP['Iran']=avgGDP['Iran']*10/9\n",
    "    \n",
    "    avgGDP_df = pd.DataFrame(avgGDP)\n",
    "    \n",
    "    avgGDP_df.rename(columns={0:'avg GDP'}, inplace=True)\n",
    "    \n",
    "    avgGDP_df['Country']=avgGDP_df.index\n",
    "    \n",
    "    avgGDP_df.set_index('avg GDP', inplace=True)\n",
    "    \n",
    "    avgGDP_df.sort_index(ascending=False, inplace=True)\n",
    "    \n",
    "    avgGDP = pd.Series(index=list(avgGDP_df['Country']), data=avgGDP_df.index)\n",
    "    \n",
    "    return avgGDP\n",
    "\n",
    "\n",
    "answer_three()"
   ]
  },
  {
   "cell_type": "markdown",
   "metadata": {},
   "source": [
    "### Question 4 (6.6%)\n",
    "By how much had the GDP changed over the 10 year span for the country with the 6th largest average GDP?\n",
    "\n",
    "*This function should return a single number.*"
   ]
  },
  {
   "cell_type": "code",
   "execution_count": 24,
   "metadata": {
    "scrolled": true,
    "umich_part_id": "012",
    "umich_partlist_id": "003"
   },
   "outputs": [
    {
     "output_type": "execute_result",
     "data": {
      "text/plain": "246702696075.3999"
     },
     "metadata": {},
     "execution_count": 24
    }
   ],
   "source": [
    "def answer_four():\n",
    "    \n",
    "    Top15 = answer_one()\n",
    "    Top15[\"AvgGDP\"] = answer_three()\n",
    "    Top15.sort_values(\"AvgGDP\", ascending=False, inplace=True)\n",
    "    final = Top15.iloc[5]['2015']\n",
    "    initial = Top15.iloc[5]['2006']\n",
    "    return abs(final - initial)\n",
    "\n",
    "answer_four()    "
   ]
  },
  {
   "cell_type": "markdown",
   "metadata": {},
   "source": [
    "### Question 5 (6.6%)\n",
    "What is the mean `Energy Supply per Capita`?\n",
    "\n",
    "*This function should return a single number.*"
   ]
  },
  {
   "cell_type": "code",
   "execution_count": 25,
   "metadata": {
    "scrolled": true,
    "umich_part_id": "013",
    "umich_partlist_id": "003"
   },
   "outputs": [
    {
     "output_type": "execute_result",
     "data": {
      "text/plain": "157.6"
     },
     "metadata": {},
     "execution_count": 25
    }
   ],
   "source": [
    "def answer_five():\n",
    "    \n",
    "    Top15 = answer_one()\n",
    "    \n",
    "    supply_per_capita = list(Top15['Energy Supply per Capita'])\n",
    "    \n",
    "    countries = list(Top15.index)\n",
    "    \n",
    "    avgGDP_index = countries\n",
    "    avgGDP_values = supply_per_capita\n",
    "    avgGDP = pd.Series(index=avgGDP_index, data=avgGDP_values)\n",
    "    \n",
    "    total = 0\n",
    "    \n",
    "    for country in countries:\n",
    "        total = avgGDP[country]+total\n",
    "        \n",
    "    mean=total/15\n",
    "    \n",
    "    return float(mean)\n",
    "\n",
    "answer_five()"
   ]
  },
  {
   "cell_type": "markdown",
   "metadata": {},
   "source": [
    "### Question 6 (6.6%)\n",
    "What country has the maximum % Renewable and what is the percentage?\n",
    "\n",
    "*This function should return a tuple with the name of the country and the percentage.*"
   ]
  },
  {
   "cell_type": "code",
   "execution_count": 26,
   "metadata": {
    "umich_part_id": "014",
    "umich_partlist_id": "003"
   },
   "outputs": [
    {
     "output_type": "execute_result",
     "data": {
      "text/plain": "('Brazil', 69.64803)"
     },
     "metadata": {},
     "execution_count": 26
    }
   ],
   "source": [
    "def answer_six():\n",
    "    \n",
    "    Top15 = answer_one()\n",
    "        \n",
    "    renewable_df = Top15[['% Renewable']]\n",
    "    \n",
    "    countries = list(renewable_df.index)\n",
    "    \n",
    "    renewable_df.set_index('% Renewable', inplace=True)\n",
    "    \n",
    "    renewable_df['Countries']=countries\n",
    "    \n",
    "    renewable_df.sort_index(ascending=False, inplace=True)\n",
    "    \n",
    "    top_renewable = (renewable_df['Countries'].iloc[0] , list(renewable_df.index)[0])\n",
    "    \n",
    "    return top_renewable\n",
    "\n",
    "answer_six()"
   ]
  },
  {
   "cell_type": "markdown",
   "metadata": {},
   "source": [
    "### Question 7 (6.6%)\n",
    "Create a new column that is the ratio of Self-Citations to Total Citations. \n",
    "What is the maximum value for this new column, and what country has the highest ratio?\n",
    "\n",
    "*This function should return a tuple with the name of the country and the ratio.*"
   ]
  },
  {
   "cell_type": "code",
   "execution_count": 27,
   "metadata": {
    "umich_part_id": "015",
    "umich_partlist_id": "003"
   },
   "outputs": [
    {
     "output_type": "execute_result",
     "data": {
      "text/plain": "('China', 0.6893126179389422)"
     },
     "metadata": {},
     "execution_count": 27
    }
   ],
   "source": [
    "def answer_seven():\n",
    "    \n",
    "    Top15 = answer_one()\n",
    "    \n",
    "    citations = Top15['Citations']\n",
    "    \n",
    "    selfcitations = Top15['Self-citations']\n",
    "    \n",
    "    countries = list(Top15.index)\n",
    "    \n",
    "    ratio_series_data = [0.0]*15\n",
    "    ratio_series_index = countries\n",
    "    ratio_series = pd.Series(index=ratio_series_index, data=ratio_series_data)\n",
    "    \n",
    "    for country in countries:\n",
    "        ratio_series[country]=selfcitations[country]/citations[country]\n",
    "    \n",
    "    ratio_df = pd.DataFrame(index=countries, data=list(ratio_series))\n",
    "     \n",
    "           \n",
    "    return (ratio_df.index[0], ratio_series[0])\n",
    "\n",
    "answer_seven()"
   ]
  },
  {
   "cell_type": "markdown",
   "metadata": {},
   "source": [
    "### Question 8 (6.6%)\n",
    "\n",
    "Create a column that estimates the population using Energy Supply and Energy Supply per capita. \n",
    "What is the third most populous country according to this estimate?\n",
    "\n",
    "*This function should return a single string value.*"
   ]
  },
  {
   "cell_type": "code",
   "execution_count": 28,
   "metadata": {
    "umich_part_id": "016",
    "umich_partlist_id": "003"
   },
   "outputs": [
    {
     "output_type": "execute_result",
     "data": {
      "text/plain": "'United States'"
     },
     "metadata": {},
     "execution_count": 28
    }
   ],
   "source": [
    "def answer_eight():\n",
    "    \n",
    "    Top15 = answer_one()\n",
    "    \n",
    "    energysupply = Top15['Energy Supply']\n",
    "    \n",
    "    energysupplyPercapita = Top15['Energy Supply per Capita']\n",
    "    \n",
    "    countries =  list(Top15.index)\n",
    "    \n",
    "    population_values = [0]*15\n",
    "    population_index = countries\n",
    "    \n",
    "    population = pd.Series(index=population_index, data= population_values)\n",
    "    \n",
    "       \n",
    "#     The nº of people is the energysuply divided by the energysupplyPercapita\n",
    "    \n",
    "    for country in countries:\n",
    "        population[country]=energysupply[country]/energysupplyPercapita[country]\n",
    "    \n",
    "    population_df = pd.DataFrame(population)\n",
    "    \n",
    "    population_df = population_df.rename(columns={0: \"Population\"})\n",
    "    \n",
    "    population_df['Country'] = population_df.index\n",
    "    \n",
    "    population_df.set_index('Population', inplace=True)\n",
    "    \n",
    "    population_df.sort_index(ascending=False, inplace=True)\n",
    "    \n",
    "    \n",
    "    return population_df['Country'].iloc[2]\n",
    "\n",
    "answer_eight()"
   ]
  },
  {
   "cell_type": "markdown",
   "metadata": {},
   "source": [
    "### Question 9 (6.6%)\n",
    "Create a column that estimates the number of citable documents per person. \n",
    "What is the correlation between the number of citable documents per capita and the energy supply per capita? Use the `.corr()` method, (Pearson's correlation).\n",
    "\n",
    "*This function should return a single number.*\n",
    "\n",
    "*(Optional: Use the built-in function `plot9()` to visualize the relationship between Energy Supply per Capita vs. Citable docs per Capita)*"
   ]
  },
  {
   "cell_type": "code",
   "execution_count": 39,
   "metadata": {
    "umich_part_id": "017",
    "umich_partlist_id": "003"
   },
   "outputs": [
    {
     "output_type": "execute_result",
     "data": {
      "text/plain": "0.7940010435442943"
     },
     "metadata": {},
     "execution_count": 39
    }
   ],
   "source": [
    "def answer_nine():\n",
    "        \n",
    "    Top15 = answer_one()\n",
    "    \n",
    "#     Creation of the list with the citable documents for each counntry\n",
    "    citabledocs = Top15['Citable documents']\n",
    "    \n",
    "#     From function answer_eight(), the popultion for each country is copied\n",
    "    energysupply = Top15['Energy Supply']\n",
    "    \n",
    "    energysupplyPercapita = Top15['Energy Supply per Capita']\n",
    "    \n",
    "    countries =  list(Top15.index)\n",
    "    \n",
    "    population_values = [0.0]*15\n",
    "    population_index = countries\n",
    "    population = pd.Series(index=population_index, data= population_values)\n",
    "        \n",
    "    for country in countries:\n",
    "        population[country]=energysupply[country]/energysupplyPercapita[country]\n",
    "    \n",
    "    population_df = pd.DataFrame(population)\n",
    "    \n",
    "    population_df = population_df.rename(columns={0: \"Population\"})\n",
    "    \n",
    "    \n",
    "    citabledocs_perperson_values = [0.0]*15 \n",
    "    citabledocs_perperson_index = countries\n",
    "    citabledocs_perperson = pd.Series(index=citabledocs_perperson_index, data=citabledocs_perperson_values)\n",
    "    \n",
    "    \n",
    "    for country in countries:\n",
    "        citabledocs_perperson[country]=float(citabledocs[country])/float(population[country])\n",
    "    \n",
    "\n",
    "    citabledocs_perperson_df = pd.DataFrame(citabledocs_perperson)\n",
    "    \n",
    "    citabledocs_perperson_df = citabledocs_perperson_df.rename(columns={0: \"Citable Docs/Person\"})\n",
    "    \n",
    "    citabledocs_perperson_df['Country'] = citabledocs_perperson_df.index\n",
    "    \n",
    "\n",
    "    energy_supply_per_capita = Top15[['Energy Supply per Capita']]\n",
    "    energy_supply_per_capita['Country'] =  energy_supply_per_capita.index\n",
    "    energy_supply_per_capita.index = range(len(energy_supply_per_capita)+1)[1:]\n",
    "    \n",
    "    joint_df = pd.merge(citabledocs_perperson_df,  energy_supply_per_capita, on='Country', how='inner')\n",
    "    joint_df.set_index('Country', inplace=True)\n",
    "    \n",
    "    correlation = joint_df.corr(method ='pearson')\n",
    "    \n",
    "    return correlation['Citable Docs/Person'].iloc[1]\n",
    "\n",
    "answer_nine()"
   ]
  },
  {
   "cell_type": "code",
   "execution_count": 98,
   "metadata": {
    "collapsed": true
   },
   "outputs": [],
   "source": [
    "# def plot9():\n",
    "#     import matplotlib as plt\n",
    "#     %matplotlib inline\n",
    "    \n",
    "#     Top15 = answer_one()\n",
    "#     Top15['PopEst'] = Top15['Energy Supply'] / Top15['Energy Supply per Capita']\n",
    "#     Top15['Citable docs per Capita'] = Top15['Citable documents'] / Top15['PopEst']\n",
    "#     Top15.plot(x='Citable docs per Capita', y='Energy Supply per Capita', kind='scatter', xlim=[0, 0.0006])"
   ]
  },
  {
   "cell_type": "code",
   "execution_count": 99,
   "metadata": {
    "collapsed": true
   },
   "outputs": [],
   "source": [
    "#plot9() # Be sure to comment out plot9() before submitting the assignment!"
   ]
  },
  {
   "cell_type": "markdown",
   "metadata": {},
   "source": [
    "### Question 10 (6.6%)\n",
    "Create a new column with a 1 if the country's % Renewable value is at or above the median for all countries in the top 15, and a 0 if the country's % Renewable value is below the median.\n",
    "\n",
    "*This function should return a series named `HighRenew` whose index is the country name sorted in ascending order of rank.*"
   ]
  },
  {
   "cell_type": "code",
   "execution_count": 40,
   "metadata": {
    "umich_part_id": "018",
    "umich_partlist_id": "003"
   },
   "outputs": [
    {
     "output_type": "execute_result",
     "data": {
      "text/plain": "China                 1\nUnited States         0\nJapan                 0\nUnited Kingdom        0\nRussian Federation    1\nCanada                1\nGermany               1\nIndia                 0\nFrance                1\nSouth Korea           0\nItaly                 1\nSpain                 1\nIran                  0\nAustralia             0\nBrazil                1\ndtype: int64"
     },
     "metadata": {},
     "execution_count": 40
    }
   ],
   "source": [
    "import statistics as stats\n",
    "\n",
    "def answer_ten():\n",
    "    \n",
    "    Top15 = answer_one()\n",
    "        \n",
    "    renewable_df = Top15[['% Renewable']]\n",
    "    \n",
    "    countries = list(renewable_df.index)\n",
    "    \n",
    "    \n",
    "    # Calculation of the median value of % Renewable\n",
    "   \n",
    "    renewable = list(renewable_df['% Renewable'])\n",
    "    \n",
    "    median_renewable = stats.median(renewable)\n",
    "    \n",
    "    f = lambda x : 1 if (x >= median_renewable) else 0\n",
    "    \n",
    "    renewable_median_index = renewable\n",
    "    \n",
    "    renewable_median_index = list(map(f,  renewable_median_index))\n",
    "\n",
    "    \n",
    "    \n",
    "\n",
    "    HighRenew = pd.Series(index=countries, data=renewable_median_index)\n",
    "\n",
    "\n",
    "\n",
    "    \n",
    "    return HighRenew\n",
    "\n",
    "\n",
    "answer_ten()"
   ]
  },
  {
   "cell_type": "markdown",
   "metadata": {},
   "source": [
    "### Question 11 (6.6%)\n",
    "Use the following dictionary to group the Countries by Continent, then create a dateframe that displays the sample size (the number of countries in each continent bin), and the sum, mean, and std deviation for the estimated population of each country.\n",
    "\n",
    "```python\n",
    "ContinentDict  = {'China':'Asia', \n",
    "                  'United States':'North America', \n",
    "                  'Japan':'Asia', \n",
    "                  'United Kingdom':'Europe', \n",
    "                  'Russian Federation':'Europe', \n",
    "                  'Canada':'North America', \n",
    "                  'Germany':'Europe', \n",
    "                  'India':'Asia',\n",
    "                  'France':'Europe', \n",
    "                  'South Korea':'Asia', \n",
    "                  'Italy':'Europe', \n",
    "                  'Spain':'Europe', \n",
    "                  'Iran':'Asia',\n",
    "                  'Australia':'Australia', \n",
    "                  'Brazil':'South America'}\n",
    "```\n",
    "\n",
    "*This function should return a DataFrame with index named Continent `['Asia', 'Australia', 'Europe', 'North America', 'South America']` and columns `['size', 'sum', 'mean', 'std']`*"
   ]
  },
  {
   "cell_type": "code",
   "execution_count": 41,
   "metadata": {
    "umich_part_id": "019",
    "umich_partlist_id": "003"
   },
   "outputs": [
    {
     "output_type": "execute_result",
     "data": {
      "text/plain": "               size           sum          mean           std\nAsia            5.0  2.898666e+09  5.797333e+08  6.790979e+08\nAustralia       1.0  2.331602e+07  2.331602e+07           NaN\nEurope          6.0  4.579297e+08  7.632161e+07  3.464767e+07\nNorth America   2.0  3.528552e+08  1.764276e+08  1.996696e+08\nSouth America   1.0  2.059153e+08  2.059153e+08           NaN",
      "text/html": "<div>\n<style scoped>\n    .dataframe tbody tr th:only-of-type {\n        vertical-align: middle;\n    }\n\n    .dataframe tbody tr th {\n        vertical-align: top;\n    }\n\n    .dataframe thead th {\n        text-align: right;\n    }\n</style>\n<table border=\"1\" class=\"dataframe\">\n  <thead>\n    <tr style=\"text-align: right;\">\n      <th></th>\n      <th>size</th>\n      <th>sum</th>\n      <th>mean</th>\n      <th>std</th>\n    </tr>\n  </thead>\n  <tbody>\n    <tr>\n      <td>Asia</td>\n      <td>5.0</td>\n      <td>2.898666e+09</td>\n      <td>5.797333e+08</td>\n      <td>6.790979e+08</td>\n    </tr>\n    <tr>\n      <td>Australia</td>\n      <td>1.0</td>\n      <td>2.331602e+07</td>\n      <td>2.331602e+07</td>\n      <td>NaN</td>\n    </tr>\n    <tr>\n      <td>Europe</td>\n      <td>6.0</td>\n      <td>4.579297e+08</td>\n      <td>7.632161e+07</td>\n      <td>3.464767e+07</td>\n    </tr>\n    <tr>\n      <td>North America</td>\n      <td>2.0</td>\n      <td>3.528552e+08</td>\n      <td>1.764276e+08</td>\n      <td>1.996696e+08</td>\n    </tr>\n    <tr>\n      <td>South America</td>\n      <td>1.0</td>\n      <td>2.059153e+08</td>\n      <td>2.059153e+08</td>\n      <td>NaN</td>\n    </tr>\n  </tbody>\n</table>\n</div>"
     },
     "metadata": {},
     "execution_count": 41
    }
   ],
   "source": [
    "import statistics as stats\n",
    "\n",
    "def answer_eleven():\n",
    "    \n",
    "    Top15 = answer_one()\n",
    "    ContinentDict  = {'China':'Asia', \n",
    "                  'United States':'North America', \n",
    "                  'Japan':'Asia', \n",
    "                  'United Kingdom':'Europe', \n",
    "                  'Russian Federation':'Europe', \n",
    "                  'Canada':'North America', \n",
    "                  'Germany':'Europe', \n",
    "                  'India':'Asia',\n",
    "                  'France':'Europe', \n",
    "                  'South Korea':'Asia', \n",
    "                  'Italy':'Europe', \n",
    "                  'Spain':'Europe', \n",
    "                  'Iran':'Asia',\n",
    "                  'Australia':'Australia', \n",
    "                  'Brazil':'South America'}\n",
    "    Top15['pop'] = Top15['Energy Supply']/Top15['Energy Supply per Capita']\n",
    "\n",
    "    return Top15.groupby(ContinentDict,axis=0)['pop'].agg({'size':np.size,'sum':np.sum, 'mean':np.mean, 'std':np.std})\n",
    "\n",
    "\n",
    "answer_eleven()"
   ]
  },
  {
   "cell_type": "markdown",
   "metadata": {},
   "source": [
    "### Question 12 (6.6%)\n",
    "Cut % Renewable into 5 bins. Group Top15 by the Continent, as well as these new % Renewable bins. How many countries are in each of these groups?\n",
    "\n",
    "*This function should return a __Series__ with a MultiIndex of `Continent`, then the bins for `% Renewable`. Do not include groups with no countries.*"
   ]
  },
  {
   "cell_type": "code",
   "execution_count": 13,
   "metadata": {
    "scrolled": true
   },
   "outputs": [
    {
     "data": {
      "text/plain": [
       "               bins            \n",
       "Asia           (2.212, 15.753]     4\n",
       "               (15.753, 29.227]    1\n",
       "Australia      (2.212, 15.753]     1\n",
       "Europe         (2.212, 15.753]     1\n",
       "               (15.753, 29.227]    3\n",
       "               (29.227, 42.701]    2\n",
       "North America  (2.212, 15.753]     1\n",
       "               (56.174, 69.648]    1\n",
       "South America  (56.174, 69.648]    1\n",
       "dtype: int64"
      ]
     },
     "execution_count": 13,
     "metadata": {},
     "output_type": "execute_result"
    }
   ],
   "source": [
    "def answer_twelve():\n",
    "    Top15 = answer_one()\n",
    "    \n",
    "    ContinentDict  = {'China':'Asia', \n",
    "                  'United States':'North America', \n",
    "                  'Japan':'Asia', \n",
    "                  'United Kingdom':'Europe', \n",
    "                  'Russian Federation':'Europe', \n",
    "                  'Canada':'North America', \n",
    "                  'Germany':'Europe', \n",
    "                  'India':'Asia',\n",
    "                  'France':'Europe', \n",
    "                  'South Korea':'Asia', \n",
    "                  'Italy':'Europe', \n",
    "                  'Spain':'Europe', \n",
    "                  'Iran':'Asia',\n",
    "                  'Australia':'Australia', \n",
    "                  'Brazil':'South America'}\n",
    "    \n",
    "    Top15[\"bins\"] = pd.cut(Top15[\"% Renewable\"], 5)\n",
    "    \n",
    "    \n",
    "    return Top15.groupby([ContinentDict, Top15['bins']]).size()\n",
    "\n",
    "answer_twelve()"
   ]
  },
  {
   "cell_type": "markdown",
   "metadata": {},
   "source": [
    "### Question 13 (6.6%)\n",
    "Convert the Population Estimate series to a string with thousands separator (using commas). Do not round the results.\n",
    "\n",
    "e.g. 317615384.61538464 -> 317,615,384.61538464\n",
    "\n",
    "*This function should return a Series `PopEst` whose index is the country name and whose values are the population estimate string.*"
   ]
  },
  {
   "cell_type": "code",
   "execution_count": 42,
   "metadata": {
    "scrolled": true,
    "umich_part_id": "020",
    "umich_partlist_id": "003"
   },
   "outputs": [
    {
     "output_type": "execute_result",
     "data": {
      "text/plain": "Country\nChina                 1,367,645,161.2903225\nUnited States          317,615,384.61538464\nJapan                  127,409,395.97315437\nUnited Kingdom         63,870,967.741935484\nRussian Federation            143,500,000.0\nCanada                  35,239,864.86486486\nGermany                 80,369,696.96969697\nIndia                 1,276,730,769.2307692\nFrance                  63,837,349.39759036\nSouth Korea            49,805,429.864253394\nItaly                  59,908,256.880733944\nSpain                    46,443,396.2264151\nIran                    77,075,630.25210084\nAustralia              23,316,017.316017315\nBrazil                 205,915,254.23728815\nName: PopEst, dtype: object"
     },
     "metadata": {},
     "execution_count": 42
    }
   ],
   "source": [
    "def answer_thirteen():\n",
    "    import pandas as pd\n",
    "    import numpy as np\n",
    "    Top15 = answer_one()\n",
    "    Top15['PopEst'] = Top15['Energy Supply'] / Top15['Energy Supply per Capita']\n",
    "    return Top15['PopEst'].apply(lambda x: \"{0:,}\".format(x))\n",
    "\n",
    "answer_thirteen()"
   ]
  },
  {
   "cell_type": "markdown",
   "metadata": {},
   "source": [
    "### Optional\n",
    "\n",
    "Use the built in function `plot_optional()` to see an example visualization."
   ]
  },
  {
   "cell_type": "code",
   "execution_count": 104,
   "metadata": {
    "collapsed": true,
    "scrolled": true
   },
   "outputs": [],
   "source": [
    "# def plot_optional():\n",
    "#     import matplotlib as plt\n",
    "#     %matplotlib inline\n",
    "#     Top15 = answer_one()\n",
    "#     ax = Top15.plot(x='Rank', y='% Renewable', kind='scatter', \n",
    "#                     c=['#e41a1c','#377eb8','#e41a1c','#4daf4a','#4daf4a','#377eb8','#4daf4a','#e41a1c',\n",
    "#                        '#4daf4a','#e41a1c','#4daf4a','#4daf4a','#e41a1c','#dede00','#ff7f00'], \n",
    "#                     xticks=range(1,16), s=6*Top15['2014']/10**10, alpha=.75, figsize=[16,6]);\n",
    "\n",
    "#     for i, txt in enumerate(Top15.index):\n",
    "#         ax.annotate(txt, [Top15['Rank'][i], Top15['% Renewable'][i]], ha='center')\n",
    "\n",
    "#     print(\"This is an example of a visualization that can be created to help understand the data. \\\n",
    "# This is a bubble chart showing % Renewable vs. Rank. The size of the bubble corresponds to the countries' \\\n",
    "# 2014 GDP, and the color corresponds to the continent.\")"
   ]
  },
  {
   "cell_type": "code",
   "execution_count": 105,
   "metadata": {
    "collapsed": true
   },
   "outputs": [],
   "source": [
    "#plot_optional() # Be sure to comment out plot_optional() before submitting the assignment!"
   ]
  }
 ],
 "metadata": {
  "anaconda-cloud": {},
  "coursera": {
   "course_slug": "python-data-analysis",
   "graded_item_id": "zAr06",
   "launcher_item_id": "KSSjT",
   "part_id": "SL3fU"
  },
  "kernelspec": {
   "display_name": "Python 3",
   "language": "python",
   "name": "python3"
  },
  "language_info": {
   "codemirror_mode": {
    "name": "ipython",
    "version": 3
   },
   "file_extension": ".py",
   "mimetype": "text/x-python",
   "name": "python",
   "nbconvert_exporter": "python",
   "pygments_lexer": "ipython3",
   "version": "3.7.4-final"
  },
  "umich": {
   "id": "Assignment 3",
   "version": "1.5"
  }
 },
 "nbformat": 4,
 "nbformat_minor": 1
}