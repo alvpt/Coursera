{
 "cells": [
  {
   "cell_type": "markdown",
   "metadata": {},
   "source": [
    "---\n",
    "\n",
    "_You are currently looking at **version 1.1** of this notebook. To download notebooks and datafiles, as well as get help on Jupyter notebooks in the Coursera platform, visit the [Jupyter Notebook FAQ](https://www.coursera.org/learn/python-data-analysis/resources/0dhYG) course resource._\n",
    "\n",
    "---"
   ]
  },
  {
   "cell_type": "code",
   "execution_count": 1,
   "metadata": {
    "collapsed": true
   },
   "outputs": [],
   "source": [
    "import pandas as pd\n",
    "import numpy as np\n",
    "from scipy.stats import ttest_ind"
   ]
  },
  {
   "cell_type": "markdown",
   "metadata": {},
   "source": [
    "# Assignment 4 - Hypothesis Testing\n",
    "This assignment requires more individual learning than previous assignments - you are encouraged to check out the [pandas documentation](http://pandas.pydata.org/pandas-docs/stable/) to find functions or methods you might not have used yet, or ask questions on [Stack Overflow](http://stackoverflow.com/) and tag them as pandas and python related. And of course, the discussion forums are open for interaction with your peers and the course staff.\n",
    "\n",
    "Definitions:\n",
    "* A _quarter_ is a specific three month period, Q1 is January through March, Q2 is April through June, Q3 is July through September, Q4 is October through December.\n",
    "* A _recession_ is defined as starting with two consecutive quarters of GDP decline, and ending with two consecutive quarters of GDP growth.\n",
    "* A _recession bottom_ is the quarter within a recession which had the lowest GDP.\n",
    "* A _university town_ is a city which has a high percentage of university students compared to the total population of the city.\n",
    "\n",
    "**Hypothesis**: University towns have their mean housing prices less effected by recessions. Run a t-test to compare the ratio of the mean price of houses in university towns the quarter before the recession starts compared to the recession bottom. (`price_ratio=quarter_before_recession/recession_bottom`)\n",
    "\n",
    "The following data files are available for this assignment:\n",
    "* From the [Zillow research data site](http://www.zillow.com/research/data/) there is housing data for the United States. In particular the datafile for [all homes at a city level](http://files.zillowstatic.com/research/public/City/City_Zhvi_AllHomes.csv), ```City_Zhvi_AllHomes.csv```, has median home sale prices at a fine grained level.\n",
    "* From the Wikipedia page on college towns is a list of [university towns in the United States](https://en.wikipedia.org/wiki/List_of_college_towns#College_towns_in_the_United_States) which has been copy and pasted into the file ```university_towns.txt```.\n",
    "* From Bureau of Economic Analysis, US Department of Commerce, the [GDP over time](http://www.bea.gov/national/index.htm#gdp) of the United States in current dollars (use the chained value in 2009 dollars), in quarterly intervals, in the file ```gdplev.xls```. For this assignment, only look at GDP data from the first quarter of 2000 onward.\n",
    "\n",
    "Each function in this assignment below is worth 10%, with the exception of ```run_ttest()```, which is worth 50%."
   ]
  },
  {
   "cell_type": "code",
   "execution_count": 2,
   "metadata": {
    "collapsed": true
   },
   "outputs": [],
   "source": [
    "# Use this dictionary to map state names to two letter acronyms\n",
    "states = {'OH': 'Ohio', 'KY': 'Kentucky', 'AS': 'American Samoa', 'NV': 'Nevada', 'WY': 'Wyoming', 'NA': 'National', 'AL': 'Alabama', 'MD': 'Maryland', 'AK': 'Alaska', 'UT': 'Utah', 'OR': 'Oregon', 'MT': 'Montana', 'IL': 'Illinois', 'TN': 'Tennessee', 'DC': 'District of Columbia', 'VT': 'Vermont', 'ID': 'Idaho', 'AR': 'Arkansas', 'ME': 'Maine', 'WA': 'Washington', 'HI': 'Hawaii', 'WI': 'Wisconsin', 'MI': 'Michigan', 'IN': 'Indiana', 'NJ': 'New Jersey', 'AZ': 'Arizona', 'GU': 'Guam', 'MS': 'Mississippi', 'PR': 'Puerto Rico', 'NC': 'North Carolina', 'TX': 'Texas', 'SD': 'South Dakota', 'MP': 'Northern Mariana Islands', 'IA': 'Iowa', 'MO': 'Missouri', 'CT': 'Connecticut', 'WV': 'West Virginia', 'SC': 'South Carolina', 'LA': 'Louisiana', 'KS': 'Kansas', 'NY': 'New York', 'NE': 'Nebraska', 'OK': 'Oklahoma', 'FL': 'Florida', 'CA': 'California', 'CO': 'Colorado', 'PA': 'Pennsylvania', 'DE': 'Delaware', 'NM': 'New Mexico', 'RI': 'Rhode Island', 'MN': 'Minnesota', 'VI': 'Virgin Islands', 'NH': 'New Hampshire', 'MA': 'Massachusetts', 'GA': 'Georgia', 'ND': 'North Dakota', 'VA': 'Virginia'}"
   ]
  },
  {
   "cell_type": "code",
   "execution_count": 3,
   "metadata": {
    "umich_part_id": "021",
    "umich_partlist_id": "004"
   },
   "outputs": [
    {
     "output_type": "execute_result",
     "data": {
      "text/plain": "         State     RegionName\n0      Alabama         Auburn\n1      Alabama       Florence\n2      Alabama   Jacksonville\n3      Alabama     Livingston\n4      Alabama     Montevallo\n..         ...            ...\n512  Wisconsin    River Falls\n513  Wisconsin  Stevens Point\n514  Wisconsin       Waukesha\n515  Wisconsin     Whitewater\n516    Wyoming        Laramie\n\n[517 rows x 2 columns]",
      "text/html": "<div>\n<style scoped>\n    .dataframe tbody tr th:only-of-type {\n        vertical-align: middle;\n    }\n\n    .dataframe tbody tr th {\n        vertical-align: top;\n    }\n\n    .dataframe thead th {\n        text-align: right;\n    }\n</style>\n<table border=\"1\" class=\"dataframe\">\n  <thead>\n    <tr style=\"text-align: right;\">\n      <th></th>\n      <th>State</th>\n      <th>RegionName</th>\n    </tr>\n  </thead>\n  <tbody>\n    <tr>\n      <td>0</td>\n      <td>Alabama</td>\n      <td>Auburn</td>\n    </tr>\n    <tr>\n      <td>1</td>\n      <td>Alabama</td>\n      <td>Florence</td>\n    </tr>\n    <tr>\n      <td>2</td>\n      <td>Alabama</td>\n      <td>Jacksonville</td>\n    </tr>\n    <tr>\n      <td>3</td>\n      <td>Alabama</td>\n      <td>Livingston</td>\n    </tr>\n    <tr>\n      <td>4</td>\n      <td>Alabama</td>\n      <td>Montevallo</td>\n    </tr>\n    <tr>\n      <td>...</td>\n      <td>...</td>\n      <td>...</td>\n    </tr>\n    <tr>\n      <td>512</td>\n      <td>Wisconsin</td>\n      <td>River Falls</td>\n    </tr>\n    <tr>\n      <td>513</td>\n      <td>Wisconsin</td>\n      <td>Stevens Point</td>\n    </tr>\n    <tr>\n      <td>514</td>\n      <td>Wisconsin</td>\n      <td>Waukesha</td>\n    </tr>\n    <tr>\n      <td>515</td>\n      <td>Wisconsin</td>\n      <td>Whitewater</td>\n    </tr>\n    <tr>\n      <td>516</td>\n      <td>Wyoming</td>\n      <td>Laramie</td>\n    </tr>\n  </tbody>\n</table>\n<p>517 rows × 2 columns</p>\n</div>"
     },
     "metadata": {},
     "execution_count": 3
    }
   ],
   "source": [
    "def get_list_of_university_towns():\n",
    "    \n",
    "    '''Returns a DataFrame of towns and the states they are in from the \n",
    "    university_towns.txt list. The format of the DataFrame should be:\n",
    "    DataFrame( [ [\"Michigan\", \"Ann Arbor\"], [\"Michigan\", \"Yipsilanti\"] ], \n",
    "    columns=[\"State\", \"RegionName\"]  )\n",
    "    \n",
    "    The following cleaning needs to be done:\n",
    "\n",
    "    1. For \"State\", removing characters from \"[\" to the end.\n",
    "    2. For \"RegionName\", when applicable, removing every character from \" (\" to the end.\n",
    "    3. Depending on how you read the data, you may need to remove newline character '\\n'. '''\n",
    "\n",
    "   \n",
    "    df = pd.DataFrame([], columns=['State', 'RegionName'])\n",
    "    with open('data\\\\university_towns.txt', 'r') as f:\n",
    "        state = \"\"\n",
    "        for line in f:\n",
    "            if '[edit]' in line:\n",
    "                state = line[:line.find('[')].strip()\n",
    "                continue\n",
    "            region = line.strip()\n",
    "            if '(' in region:\n",
    "                region = region[:(region.find('(') - 1)]\n",
    "            df = df.append(pd.DataFrame([[state, region]], columns=['State', 'RegionName']), ignore_index=True)\n",
    "    \n",
    "            \n",
    "\n",
    "    return df\n",
    "\n",
    "get_list_of_university_towns()"
   ]
  },
  {
   "cell_type": "code",
   "execution_count": 4,
   "metadata": {
    "scrolled": true,
    "umich_part_id": "023",
    "umich_partlist_id": "004"
   },
   "outputs": [
    {
     "output_type": "error",
     "ename": "AttributeError",
     "evalue": "'float' object has no attribute 'find'",
     "traceback": [
      "\u001b[1;31m---------------------------------------------------------------------------\u001b[0m",
      "\u001b[1;31mAttributeError\u001b[0m                            Traceback (most recent call last)",
      "\u001b[1;32m<ipython-input-4-19a62efbf981>\u001b[0m in \u001b[0;36m<module>\u001b[1;34m\u001b[0m\n\u001b[0;32m     59\u001b[0m     \u001b[1;32mreturn\u001b[0m \u001b[0mdf\u001b[0m\u001b[1;33m[\u001b[0m\u001b[1;34m'Quarter'\u001b[0m\u001b[1;33m]\u001b[0m\u001b[1;33m.\u001b[0m\u001b[0miloc\u001b[0m\u001b[1;33m[\u001b[0m\u001b[1;36m2\u001b[0m\u001b[1;33m]\u001b[0m\u001b[1;33m\u001b[0m\u001b[1;33m\u001b[0m\u001b[0m\n\u001b[0;32m     60\u001b[0m \u001b[1;33m\u001b[0m\u001b[0m\n\u001b[1;32m---> 61\u001b[1;33m \u001b[0mget_recession_end\u001b[0m\u001b[1;33m(\u001b[0m\u001b[1;33m)\u001b[0m\u001b[1;33m\u001b[0m\u001b[1;33m\u001b[0m\u001b[0m\n\u001b[0m",
      "\u001b[1;32m<ipython-input-4-19a62efbf981>\u001b[0m in \u001b[0;36mget_recession_end\u001b[1;34m()\u001b[0m\n\u001b[0;32m     29\u001b[0m     \u001b[0melement_counter\u001b[0m\u001b[1;33m=\u001b[0m\u001b[1;36m0\u001b[0m\u001b[1;33m\u001b[0m\u001b[1;33m\u001b[0m\u001b[0m\n\u001b[0;32m     30\u001b[0m     \u001b[1;32mfor\u001b[0m \u001b[0melement\u001b[0m \u001b[1;32min\u001b[0m \u001b[0mdf_year\u001b[0m\u001b[1;33m:\u001b[0m\u001b[1;33m\u001b[0m\u001b[1;33m\u001b[0m\u001b[0m\n\u001b[1;32m---> 31\u001b[1;33m         \u001b[0mcharacter_position\u001b[0m \u001b[1;33m=\u001b[0m \u001b[0melement\u001b[0m\u001b[1;33m.\u001b[0m\u001b[0mfind\u001b[0m\u001b[1;33m(\u001b[0m\u001b[1;34m'q'\u001b[0m\u001b[1;33m)\u001b[0m\u001b[1;33m\u001b[0m\u001b[1;33m\u001b[0m\u001b[0m\n\u001b[0m\u001b[0;32m     32\u001b[0m \u001b[1;33m\u001b[0m\u001b[0m\n\u001b[0;32m     33\u001b[0m         \u001b[1;32mif\u001b[0m \u001b[1;33m(\u001b[0m\u001b[0mcharacter_position\u001b[0m \u001b[1;33m>\u001b[0m \u001b[1;36m0\u001b[0m\u001b[1;33m)\u001b[0m\u001b[1;33m:\u001b[0m\u001b[1;33m\u001b[0m\u001b[1;33m\u001b[0m\u001b[0m\n",
      "\u001b[1;31mAttributeError\u001b[0m: 'float' object has no attribute 'find'"
     ]
    }
   ],
   "source": [
    "def get_recession_end():\n",
    "    '''Returns the year and quarter of the recession end time as a \n",
    "    string value in a format such as 2005q3'''\n",
    "       \n",
    "    # A recession is defined as starting with two consecutive quarters of GDP decline,\n",
    "    # and ending with two consecutive quarters of GDP growth.  \n",
    "    \n",
    "    df = pd.read_excel('data\\\\gdplev.xls', header=6, usecols=[3,4,5])\n",
    "    \n",
    "    # 1: Year\n",
    "    # 2: Annual GDP in billions of current dollars \n",
    "    # 3: GDP in billions of chained 2009 dollars \n",
    "    # 4: Empty_1\n",
    "    # 5: Quarterly (Seasonally adjusted annual rates)\t\n",
    "    # 6: GDP in billions of current dollars \n",
    "    # 7. GDP in billions of chained 2009 dollars \n",
    "    \n",
    "    df = df.rename(columns={'Unnamed: 3':'Empty_1',\n",
    "                            'Unnamed: 4':'Quarter', \n",
    "                            'Unnamed: 5':'GDP in billions of current dollars'})\n",
    "\n",
    "    df = df.drop(['Empty_1'], axis=1)\n",
    "\n",
    "    \n",
    "    #  For this assignments , only the GDP data from the first quarter of 2000 onward is considered.\n",
    "    \n",
    "    df_year = list(df['Quarter'])\n",
    "    \n",
    "    element_counter=0\n",
    "    for element in df_year:\n",
    "        character_position = element.find('q')\n",
    "        \n",
    "        if (character_position > 0):\n",
    "            element = element[:character_position]\n",
    "            df_year[element_counter] = int(element)\n",
    "\n",
    "        element_counter = element_counter+1\n",
    "    \n",
    "    df['Year'] = df_year\n",
    "    \n",
    "    df = df[df['Year']>=2000].reset_index().drop('index', axis=1)\n",
    "    \n",
    "    for index in range(len(df)-2):\n",
    "        if (df['GDP in billions of current dollars'].iloc[index] > df['GDP in billions of current dollars'].iloc[index+1]):\n",
    "            if (df['GDP in billions of current dollars'].iloc[index] > df['GDP in billions of current dollars'].iloc[index+2]):\n",
    "                break\n",
    "    \n",
    "    df_2 = df.drop(df.index[range(index)]).reset_index().drop('index', axis=1)\n",
    "    \n",
    "    for index in range(len(df_2)-2):\n",
    "        if (df_2['GDP in billions of current dollars'].iloc[index] < df_2['GDP in billions of current dollars'].iloc[index+1]):\n",
    "            if (df_2['GDP in billions of current dollars'].iloc[index] < df_2['GDP in billions of current dollars'].iloc[index+2]):\n",
    "                break\n",
    "                \n",
    "    df = df_2.drop(df.index[range(index)]).reset_index().drop('index', axis=1)             \n",
    "      \n",
    "    \n",
    "    \n",
    "    return df['Quarter'].iloc[2]\n",
    "\n",
    "get_recession_end()"
   ]
  },
  {
   "cell_type": "code",
   "execution_count": 8,
   "metadata": {
    "umich_part_id": "024",
    "umich_partlist_id": "004"
   },
   "outputs": [
    {
     "output_type": "error",
     "ename": "AttributeError",
     "evalue": "'float' object has no attribute 'find'",
     "traceback": [
      "\u001b[1;31m---------------------------------------------------------------------------\u001b[0m",
      "\u001b[1;31mAttributeError\u001b[0m                            Traceback (most recent call last)",
      "\u001b[1;32m<ipython-input-8-9d01511e9fc3>\u001b[0m in \u001b[0;36m<module>\u001b[1;34m\u001b[0m\n\u001b[0;32m     53\u001b[0m     \u001b[1;32mreturn\u001b[0m \u001b[0mdf\u001b[0m\u001b[1;33m[\u001b[0m\u001b[1;34m'Quarter'\u001b[0m\u001b[1;33m]\u001b[0m\u001b[1;33m.\u001b[0m\u001b[0miloc\u001b[0m\u001b[1;33m[\u001b[0m\u001b[1;36m0\u001b[0m\u001b[1;33m]\u001b[0m\u001b[1;33m\u001b[0m\u001b[1;33m\u001b[0m\u001b[0m\n\u001b[0;32m     54\u001b[0m \u001b[1;33m\u001b[0m\u001b[0m\n\u001b[1;32m---> 55\u001b[1;33m \u001b[0mget_recession_bottom\u001b[0m\u001b[1;33m(\u001b[0m\u001b[1;33m)\u001b[0m\u001b[1;33m\u001b[0m\u001b[1;33m\u001b[0m\u001b[0m\n\u001b[0m",
      "\u001b[1;32m<ipython-input-8-9d01511e9fc3>\u001b[0m in \u001b[0;36mget_recession_bottom\u001b[1;34m()\u001b[0m\n\u001b[0;32m     29\u001b[0m     \u001b[0melement_counter\u001b[0m\u001b[1;33m=\u001b[0m\u001b[1;36m0\u001b[0m\u001b[1;33m\u001b[0m\u001b[1;33m\u001b[0m\u001b[0m\n\u001b[0;32m     30\u001b[0m     \u001b[1;32mfor\u001b[0m \u001b[0melement\u001b[0m \u001b[1;32min\u001b[0m \u001b[0mdf_year\u001b[0m\u001b[1;33m:\u001b[0m\u001b[1;33m\u001b[0m\u001b[1;33m\u001b[0m\u001b[0m\n\u001b[1;32m---> 31\u001b[1;33m         \u001b[0mcharacter_position\u001b[0m \u001b[1;33m=\u001b[0m \u001b[0melement\u001b[0m\u001b[1;33m.\u001b[0m\u001b[0mfind\u001b[0m\u001b[1;33m(\u001b[0m\u001b[1;34m'q'\u001b[0m\u001b[1;33m)\u001b[0m\u001b[1;33m\u001b[0m\u001b[1;33m\u001b[0m\u001b[0m\n\u001b[0m\u001b[0;32m     32\u001b[0m \u001b[1;33m\u001b[0m\u001b[0m\n\u001b[0;32m     33\u001b[0m         \u001b[1;32mif\u001b[0m \u001b[1;33m(\u001b[0m\u001b[0mcharacter_position\u001b[0m \u001b[1;33m>\u001b[0m \u001b[1;36m0\u001b[0m\u001b[1;33m)\u001b[0m\u001b[1;33m:\u001b[0m\u001b[1;33m\u001b[0m\u001b[1;33m\u001b[0m\u001b[0m\n",
      "\u001b[1;31mAttributeError\u001b[0m: 'float' object has no attribute 'find'"
     ]
    }
   ],
   "source": [
    "def get_recession_bottom():\n",
    "    '''Returns the year and quarter of the recession bottom time as a \n",
    "    string value in a format such as 2005q3'''\n",
    "    \n",
    "    # A recession is defined as starting with two consecutive quarters of GDP decline,\n",
    "    # and ending with two consecutive quarters of GDP growth.  \n",
    "    \n",
    "    df = pd.read_excel('data\\\\gdplev.xls', header=6, usecols=[3,4,5])\n",
    "    \n",
    "    # 1: Year\n",
    "    # 2: Annual GDP in billions of current dollars \n",
    "    # 3: GDP in billions of chained 2009 dollars \n",
    "    # 4: Empty_1\n",
    "    # 5: Quarterly (Seasonally adjusted annual rates)\t\n",
    "    # 6: GDP in billions of current dollars \n",
    "    # 7. GDP in billions of chained 2009 dollars \n",
    "    \n",
    "    df = df.rename(columns={'Unnamed: 3':'Empty_1',\n",
    "                            'Unnamed: 4':'Quarter', \n",
    "                            'Unnamed: 5':'GDP in billions of current dollars'})\n",
    "\n",
    "    df = df.drop(['Empty_1'], axis=1)\n",
    "\n",
    "    \n",
    "    #  For this assignments , only the GDP data from the first quarter of 2000 onward is considered.\n",
    "    \n",
    "    df_year = list(df['Quarter'])\n",
    "    \n",
    "    element_counter=0\n",
    "    for element in df_year:\n",
    "        character_position = element.find('q')\n",
    "        \n",
    "        if (character_position > 0):\n",
    "            element = element[:character_position]\n",
    "            df_year[element_counter] = int(element)\n",
    "\n",
    "        element_counter = element_counter+1\n",
    "    \n",
    "    df['Year'] = df_year\n",
    "    \n",
    "    df = df[df['Year']>=2000].reset_index().drop('index', axis=1)\n",
    "    \n",
    "    for index in range(len(df)-2):\n",
    "        if (df['GDP in billions of current dollars'].iloc[index] > df['GDP in billions of current dollars'].iloc[index+1]):\n",
    "            if (df['GDP in billions of current dollars'].iloc[index] > df['GDP in billions of current dollars'].iloc[index+2]):\n",
    "                break\n",
    "    \n",
    "    df_2 = df.drop(df.index[range(index)]).reset_index().drop('index', axis=1)\n",
    "    \n",
    "    df = df_2.set_index('GDP in billions of current dollars').sort_index(ascending=True)\n",
    "    \n",
    "    \n",
    "    return df['Quarter'].iloc[0]\n",
    "\n",
    "get_recession_bottom()"
   ]
  },
  {
   "cell_type": "code",
   "execution_count": 9,
   "metadata": {
    "umich_part_id": "025",
    "umich_partlist_id": "004"
   },
   "outputs": [
    {
     "output_type": "execute_result",
     "data": {
      "text/plain": "                                         2000Q1         2000Q2         2000Q3  \\\nState        RegionName                                                         \nNew York     New York                       NaN            NaN            NaN   \nCalifornia   Los Angeles          207066.666667  214466.666667  220966.666667   \nIllinois     Chicago              138400.000000  143633.333333  147866.666667   \nPennsylvania Philadelphia          53000.000000   53633.333333   54133.333333   \nArizona      Phoenix              111833.333333  114366.666667  116000.000000   \n...                                         ...            ...            ...   \nWisconsin    Town of Wrightstown  101766.666667  105400.000000  111366.666667   \nNew York     Urbana                79200.000000   81666.666667   91700.000000   \nWisconsin    New Denmark          114566.666667  119266.666667  126066.666667   \nCalifornia   Angels               151000.000000  155900.000000  158100.000000   \nWisconsin    Holland              151033.333333  150500.000000  153233.333333   \n\n                                         2000Q4         2001Q1         2001Q2  \\\nState        RegionName                                                         \nNew York     New York                       NaN            NaN            NaN   \nCalifornia   Los Angeles          226166.666667  233000.000000  239100.000000   \nIllinois     Chicago              152133.333333  156933.333333  161800.000000   \nPennsylvania Philadelphia          54700.000000   55333.333333   55533.333333   \nArizona      Phoenix              117400.000000  119600.000000  121566.666667   \n...                                         ...            ...            ...   \nWisconsin    Town of Wrightstown  114866.666667  125966.666667  129900.000000   \nNew York     Urbana                98366.666667   94866.666667   98533.333333   \nWisconsin    New Denmark          131966.666667  143800.000000  146966.666667   \nCalifornia   Angels               167466.666667  176833.333333  183766.666667   \nWisconsin    Holland              155833.333333  161866.666667  165733.333333   \n\n                                         2001Q3         2001Q4         2002Q1  \\\nState        RegionName                                                         \nNew York     New York                       NaN            NaN            NaN   \nCalifornia   Los Angeles          245066.666667  253033.333333  261966.666667   \nIllinois     Chicago              166400.000000  170433.333333  175500.000000   \nPennsylvania Philadelphia          56266.666667   57533.333333   59133.333333   \nArizona      Phoenix              122700.000000  124300.000000  126533.333333   \n...                                         ...            ...            ...   \nWisconsin    Town of Wrightstown  129900.000000  129433.333333  131900.000000   \nNew York     Urbana               102966.666667   98033.333333   93966.666667   \nWisconsin    New Denmark          148366.666667  149166.666667  153133.333333   \nCalifornia   Angels               190233.333333  184566.666667  184033.333333   \nWisconsin    Holland              168033.333333  167400.000000  165766.666667   \n\n                                         2002Q2  ...         2014Q2  \\\nState        RegionName                          ...                  \nNew York     New York                       NaN  ...  515466.666667   \nCalifornia   Los Angeles          272700.000000  ...  498033.333333   \nIllinois     Chicago              177566.666667  ...  192633.333333   \nPennsylvania Philadelphia          60733.333333  ...  113733.333333   \nArizona      Phoenix              128366.666667  ...  164266.666667   \n...                                         ...  ...            ...   \nWisconsin    Town of Wrightstown  134200.000000  ...  144866.666667   \nNew York     Urbana                94600.000000  ...  132133.333333   \nWisconsin    New Denmark          156733.333333  ...  174566.666667   \nCalifornia   Angels               186133.333333  ...  244466.666667   \nWisconsin    Holland              161966.666667  ...  201266.666667   \n\n                                         2014Q3         2014Q4         2015Q1  \\\nState        RegionName                                                         \nNew York     New York             522800.000000  528066.666667  532266.666667   \nCalifornia   Los Angeles          509066.666667  518866.666667  528800.000000   \nIllinois     Chicago              195766.666667  201266.666667  201066.666667   \nPennsylvania Philadelphia         115300.000000  115666.666667  116200.000000   \nArizona      Phoenix              165366.666667  168500.000000  171533.333333   \n...                                         ...            ...            ...   \nWisconsin    Town of Wrightstown  146866.666667  149233.333333  148666.666667   \nNew York     Urbana               137033.333333  140066.666667  141700.000000   \nWisconsin    New Denmark          181166.666667  186166.666667  187600.000000   \nCalifornia   Angels               254066.666667  259933.333333  260100.000000   \nWisconsin    Holland              201566.666667  201266.666667  206000.000000   \n\n                                         2015Q2         2015Q3         2015Q4  \\\nState        RegionName                                                         \nNew York     New York             540800.000000  557200.000000  572833.333333   \nCalifornia   Los Angeles          538166.666667  547266.666667  557733.333333   \nIllinois     Chicago              206033.333333  208300.000000  207900.000000   \nPennsylvania Philadelphia         117966.666667  121233.333333  122200.000000   \nArizona      Phoenix              174166.666667  179066.666667  183833.333333   \n...                                         ...            ...            ...   \nWisconsin    Town of Wrightstown  149333.333333  149866.666667  149933.333333   \nNew York     Urbana               137866.666667  136466.666667  136166.666667   \nWisconsin    New Denmark          188666.666667  188433.333333  188933.333333   \nCalifornia   Angels               250633.333333  263500.000000  279500.000000   \nWisconsin    Holland              207600.000000  212866.666667  217833.333333   \n\n                                         2016Q1         2016Q2    2016Q3  \nState        RegionName                                                   \nNew York     New York             582866.666667  591633.333333  587200.0  \nCalifornia   Los Angeles          566033.333333  577466.666667  584050.0  \nIllinois     Chicago              206066.666667  208200.000000  212000.0  \nPennsylvania Philadelphia         123433.333333  126933.333333  128700.0  \nArizona      Phoenix              187900.000000  191433.333333  195200.0  \n...                                         ...            ...       ...  \nWisconsin    Town of Wrightstown  149833.333333  151266.666667  155000.0  \nNew York     Urbana               138966.666667  144200.000000  143000.0  \nWisconsin    New Denmark          191066.666667  192833.333333  197600.0  \nCalifornia   Angels               276533.333333  271600.000000  269950.0  \nWisconsin    Holland              221966.666667  228033.333333  234950.0  \n\n[10730 rows x 67 columns]",
      "text/html": "<div>\n<style scoped>\n    .dataframe tbody tr th:only-of-type {\n        vertical-align: middle;\n    }\n\n    .dataframe tbody tr th {\n        vertical-align: top;\n    }\n\n    .dataframe thead th {\n        text-align: right;\n    }\n</style>\n<table border=\"1\" class=\"dataframe\">\n  <thead>\n    <tr style=\"text-align: right;\">\n      <th></th>\n      <th></th>\n      <th>2000Q1</th>\n      <th>2000Q2</th>\n      <th>2000Q3</th>\n      <th>2000Q4</th>\n      <th>2001Q1</th>\n      <th>2001Q2</th>\n      <th>2001Q3</th>\n      <th>2001Q4</th>\n      <th>2002Q1</th>\n      <th>2002Q2</th>\n      <th>...</th>\n      <th>2014Q2</th>\n      <th>2014Q3</th>\n      <th>2014Q4</th>\n      <th>2015Q1</th>\n      <th>2015Q2</th>\n      <th>2015Q3</th>\n      <th>2015Q4</th>\n      <th>2016Q1</th>\n      <th>2016Q2</th>\n      <th>2016Q3</th>\n    </tr>\n    <tr>\n      <th>State</th>\n      <th>RegionName</th>\n      <th></th>\n      <th></th>\n      <th></th>\n      <th></th>\n      <th></th>\n      <th></th>\n      <th></th>\n      <th></th>\n      <th></th>\n      <th></th>\n      <th></th>\n      <th></th>\n      <th></th>\n      <th></th>\n      <th></th>\n      <th></th>\n      <th></th>\n      <th></th>\n      <th></th>\n      <th></th>\n      <th></th>\n    </tr>\n  </thead>\n  <tbody>\n    <tr>\n      <td>New York</td>\n      <td>New York</td>\n      <td>NaN</td>\n      <td>NaN</td>\n      <td>NaN</td>\n      <td>NaN</td>\n      <td>NaN</td>\n      <td>NaN</td>\n      <td>NaN</td>\n      <td>NaN</td>\n      <td>NaN</td>\n      <td>NaN</td>\n      <td>...</td>\n      <td>515466.666667</td>\n      <td>522800.000000</td>\n      <td>528066.666667</td>\n      <td>532266.666667</td>\n      <td>540800.000000</td>\n      <td>557200.000000</td>\n      <td>572833.333333</td>\n      <td>582866.666667</td>\n      <td>591633.333333</td>\n      <td>587200.0</td>\n    </tr>\n    <tr>\n      <td>California</td>\n      <td>Los Angeles</td>\n      <td>207066.666667</td>\n      <td>214466.666667</td>\n      <td>220966.666667</td>\n      <td>226166.666667</td>\n      <td>233000.000000</td>\n      <td>239100.000000</td>\n      <td>245066.666667</td>\n      <td>253033.333333</td>\n      <td>261966.666667</td>\n      <td>272700.000000</td>\n      <td>...</td>\n      <td>498033.333333</td>\n      <td>509066.666667</td>\n      <td>518866.666667</td>\n      <td>528800.000000</td>\n      <td>538166.666667</td>\n      <td>547266.666667</td>\n      <td>557733.333333</td>\n      <td>566033.333333</td>\n      <td>577466.666667</td>\n      <td>584050.0</td>\n    </tr>\n    <tr>\n      <td>Illinois</td>\n      <td>Chicago</td>\n      <td>138400.000000</td>\n      <td>143633.333333</td>\n      <td>147866.666667</td>\n      <td>152133.333333</td>\n      <td>156933.333333</td>\n      <td>161800.000000</td>\n      <td>166400.000000</td>\n      <td>170433.333333</td>\n      <td>175500.000000</td>\n      <td>177566.666667</td>\n      <td>...</td>\n      <td>192633.333333</td>\n      <td>195766.666667</td>\n      <td>201266.666667</td>\n      <td>201066.666667</td>\n      <td>206033.333333</td>\n      <td>208300.000000</td>\n      <td>207900.000000</td>\n      <td>206066.666667</td>\n      <td>208200.000000</td>\n      <td>212000.0</td>\n    </tr>\n    <tr>\n      <td>Pennsylvania</td>\n      <td>Philadelphia</td>\n      <td>53000.000000</td>\n      <td>53633.333333</td>\n      <td>54133.333333</td>\n      <td>54700.000000</td>\n      <td>55333.333333</td>\n      <td>55533.333333</td>\n      <td>56266.666667</td>\n      <td>57533.333333</td>\n      <td>59133.333333</td>\n      <td>60733.333333</td>\n      <td>...</td>\n      <td>113733.333333</td>\n      <td>115300.000000</td>\n      <td>115666.666667</td>\n      <td>116200.000000</td>\n      <td>117966.666667</td>\n      <td>121233.333333</td>\n      <td>122200.000000</td>\n      <td>123433.333333</td>\n      <td>126933.333333</td>\n      <td>128700.0</td>\n    </tr>\n    <tr>\n      <td>Arizona</td>\n      <td>Phoenix</td>\n      <td>111833.333333</td>\n      <td>114366.666667</td>\n      <td>116000.000000</td>\n      <td>117400.000000</td>\n      <td>119600.000000</td>\n      <td>121566.666667</td>\n      <td>122700.000000</td>\n      <td>124300.000000</td>\n      <td>126533.333333</td>\n      <td>128366.666667</td>\n      <td>...</td>\n      <td>164266.666667</td>\n      <td>165366.666667</td>\n      <td>168500.000000</td>\n      <td>171533.333333</td>\n      <td>174166.666667</td>\n      <td>179066.666667</td>\n      <td>183833.333333</td>\n      <td>187900.000000</td>\n      <td>191433.333333</td>\n      <td>195200.0</td>\n    </tr>\n    <tr>\n      <td>...</td>\n      <td>...</td>\n      <td>...</td>\n      <td>...</td>\n      <td>...</td>\n      <td>...</td>\n      <td>...</td>\n      <td>...</td>\n      <td>...</td>\n      <td>...</td>\n      <td>...</td>\n      <td>...</td>\n      <td>...</td>\n      <td>...</td>\n      <td>...</td>\n      <td>...</td>\n      <td>...</td>\n      <td>...</td>\n      <td>...</td>\n      <td>...</td>\n      <td>...</td>\n      <td>...</td>\n      <td>...</td>\n    </tr>\n    <tr>\n      <td>Wisconsin</td>\n      <td>Town of Wrightstown</td>\n      <td>101766.666667</td>\n      <td>105400.000000</td>\n      <td>111366.666667</td>\n      <td>114866.666667</td>\n      <td>125966.666667</td>\n      <td>129900.000000</td>\n      <td>129900.000000</td>\n      <td>129433.333333</td>\n      <td>131900.000000</td>\n      <td>134200.000000</td>\n      <td>...</td>\n      <td>144866.666667</td>\n      <td>146866.666667</td>\n      <td>149233.333333</td>\n      <td>148666.666667</td>\n      <td>149333.333333</td>\n      <td>149866.666667</td>\n      <td>149933.333333</td>\n      <td>149833.333333</td>\n      <td>151266.666667</td>\n      <td>155000.0</td>\n    </tr>\n    <tr>\n      <td>New York</td>\n      <td>Urbana</td>\n      <td>79200.000000</td>\n      <td>81666.666667</td>\n      <td>91700.000000</td>\n      <td>98366.666667</td>\n      <td>94866.666667</td>\n      <td>98533.333333</td>\n      <td>102966.666667</td>\n      <td>98033.333333</td>\n      <td>93966.666667</td>\n      <td>94600.000000</td>\n      <td>...</td>\n      <td>132133.333333</td>\n      <td>137033.333333</td>\n      <td>140066.666667</td>\n      <td>141700.000000</td>\n      <td>137866.666667</td>\n      <td>136466.666667</td>\n      <td>136166.666667</td>\n      <td>138966.666667</td>\n      <td>144200.000000</td>\n      <td>143000.0</td>\n    </tr>\n    <tr>\n      <td>Wisconsin</td>\n      <td>New Denmark</td>\n      <td>114566.666667</td>\n      <td>119266.666667</td>\n      <td>126066.666667</td>\n      <td>131966.666667</td>\n      <td>143800.000000</td>\n      <td>146966.666667</td>\n      <td>148366.666667</td>\n      <td>149166.666667</td>\n      <td>153133.333333</td>\n      <td>156733.333333</td>\n      <td>...</td>\n      <td>174566.666667</td>\n      <td>181166.666667</td>\n      <td>186166.666667</td>\n      <td>187600.000000</td>\n      <td>188666.666667</td>\n      <td>188433.333333</td>\n      <td>188933.333333</td>\n      <td>191066.666667</td>\n      <td>192833.333333</td>\n      <td>197600.0</td>\n    </tr>\n    <tr>\n      <td>California</td>\n      <td>Angels</td>\n      <td>151000.000000</td>\n      <td>155900.000000</td>\n      <td>158100.000000</td>\n      <td>167466.666667</td>\n      <td>176833.333333</td>\n      <td>183766.666667</td>\n      <td>190233.333333</td>\n      <td>184566.666667</td>\n      <td>184033.333333</td>\n      <td>186133.333333</td>\n      <td>...</td>\n      <td>244466.666667</td>\n      <td>254066.666667</td>\n      <td>259933.333333</td>\n      <td>260100.000000</td>\n      <td>250633.333333</td>\n      <td>263500.000000</td>\n      <td>279500.000000</td>\n      <td>276533.333333</td>\n      <td>271600.000000</td>\n      <td>269950.0</td>\n    </tr>\n    <tr>\n      <td>Wisconsin</td>\n      <td>Holland</td>\n      <td>151033.333333</td>\n      <td>150500.000000</td>\n      <td>153233.333333</td>\n      <td>155833.333333</td>\n      <td>161866.666667</td>\n      <td>165733.333333</td>\n      <td>168033.333333</td>\n      <td>167400.000000</td>\n      <td>165766.666667</td>\n      <td>161966.666667</td>\n      <td>...</td>\n      <td>201266.666667</td>\n      <td>201566.666667</td>\n      <td>201266.666667</td>\n      <td>206000.000000</td>\n      <td>207600.000000</td>\n      <td>212866.666667</td>\n      <td>217833.333333</td>\n      <td>221966.666667</td>\n      <td>228033.333333</td>\n      <td>234950.0</td>\n    </tr>\n  </tbody>\n</table>\n<p>10730 rows × 67 columns</p>\n</div>"
     },
     "metadata": {},
     "execution_count": 9
    }
   ],
   "source": [
    "from statistics import mean\n",
    "from math import ceil\n",
    "\n",
    "def convert_housing_data_to_quarters():\n",
    "    '''Converts the housing data to quarters and returns it as mean \n",
    "    values in a dataframe. This dataframe should be a dataframe with\n",
    "    columns for 2000q1 through 2016q3, and should have a multi-index\n",
    "    in the shape of [\"State\",\"RegionName\"].\n",
    "    \n",
    "    Note: Quarters are defined in the assignment description, they are\n",
    "    not arbitrary three month periods.\n",
    "    \n",
    "    The resulting dataframe should have 67 columns, and 10,730 rows.\n",
    "    '''\n",
    "    \n",
    "    house = pd.read_csv('data\\\\City_Zhvi_AllHomes.csv',header = 0)\n",
    "    cols = [0]\n",
    "    a = list(range(3,51))\n",
    "    house.drop(house.columns[a],axis=1,inplace=True)\n",
    "    house.drop(house.columns[0],axis=1,inplace=True)\n",
    "    \n",
    "    states = {'OH': 'Ohio', 'KY': 'Kentucky', 'AS': 'American Samoa', 'NV': 'Nevada', 'WY': 'Wyoming', 'NA': 'National', 'AL': 'Alabama', 'MD': 'Maryland', 'AK': 'Alaska', 'UT': 'Utah', 'OR': 'Oregon', 'MT': 'Montana', 'IL': 'Illinois', 'TN': 'Tennessee', 'DC': 'District of Columbia', 'VT': 'Vermont', 'ID': 'Idaho', 'AR': 'Arkansas', 'ME': 'Maine', 'WA': 'Washington', 'HI': 'Hawaii', 'WI': 'Wisconsin', 'MI': 'Michigan', 'IN': 'Indiana', 'NJ': 'New Jersey', 'AZ': 'Arizona', 'GU': 'Guam', 'MS': 'Mississippi', 'PR': 'Puerto Rico', 'NC': 'North Carolina', 'TX': 'Texas', 'SD': 'South Dakota', 'MP': 'Northern Mariana Islands', 'IA': 'Iowa', 'MO': 'Missouri', 'CT': 'Connecticut', 'WV': 'West Virginia', 'SC': 'South Carolina', 'LA': 'Louisiana', 'KS': 'Kansas', 'NY': 'New York', 'NE': 'Nebraska', 'OK': 'Oklahoma', 'FL': 'Florida', 'CA': 'California', 'CO': 'Colorado', 'PA': 'Pennsylvania', 'DE': 'Delaware', 'NM': 'New Mexico', 'RI': 'Rhode Island', 'MN': 'Minnesota', 'VI': 'Virgin Islands', 'NH': 'New Hampshire', 'MA': 'Massachusetts', 'GA': 'Georgia', 'ND': 'North Dakota', 'VA': 'Virginia'}\n",
    "    \n",
    "    house.replace({'State':states}, inplace = True)\n",
    "    house.set_index(['State','RegionName'],inplace = True)\n",
    "    house = house.groupby(pd.PeriodIndex(house.columns, freq='Q'), axis=1).mean()\n",
    "    \n",
    "    return house\n",
    "\n",
    "convert_housing_data_to_quarters()"
   ]
  },
  {
   "cell_type": "code",
   "execution_count": 10,
   "metadata": {
    "umich_part_id": "026",
    "umich_partlist_id": "004"
   },
   "outputs": [
    {
     "output_type": "error",
     "ename": "AttributeError",
     "evalue": "'float' object has no attribute 'find'",
     "traceback": [
      "\u001b[1;31m---------------------------------------------------------------------------\u001b[0m",
      "\u001b[1;31mAttributeError\u001b[0m                            Traceback (most recent call last)",
      "\u001b[1;32m<ipython-input-10-32a840c982d5>\u001b[0m in \u001b[0;36m<module>\u001b[1;34m\u001b[0m\n\u001b[0;32m     85\u001b[0m \u001b[1;33m\u001b[0m\u001b[0m\n\u001b[0;32m     86\u001b[0m \u001b[1;33m\u001b[0m\u001b[0m\n\u001b[1;32m---> 87\u001b[1;33m \u001b[0mrun_ttest\u001b[0m\u001b[1;33m(\u001b[0m\u001b[1;33m)\u001b[0m\u001b[1;33m\u001b[0m\u001b[1;33m\u001b[0m\u001b[0m\n\u001b[0m",
      "\u001b[1;32m<ipython-input-10-32a840c982d5>\u001b[0m in \u001b[0;36mrun_ttest\u001b[1;34m()\u001b[0m\n\u001b[0;32m     46\u001b[0m     \u001b[1;31m# la recesión\u001b[0m\u001b[1;33m\u001b[0m\u001b[1;33m\u001b[0m\u001b[1;33m\u001b[0m\u001b[0m\n\u001b[0;32m     47\u001b[0m     \u001b[0mstart_index\u001b[0m \u001b[1;33m=\u001b[0m \u001b[0mhdf\u001b[0m\u001b[1;33m.\u001b[0m\u001b[0mcolumns\u001b[0m\u001b[1;33m.\u001b[0m\u001b[0mget_loc\u001b[0m\u001b[1;33m(\u001b[0m\u001b[0mget_recession_start\u001b[0m\u001b[1;33m(\u001b[0m\u001b[1;33m)\u001b[0m\u001b[1;33m)\u001b[0m\u001b[1;33m\u001b[0m\u001b[1;33m\u001b[0m\u001b[0m\n\u001b[1;32m---> 48\u001b[1;33m     \u001b[0mbottom_index\u001b[0m \u001b[1;33m=\u001b[0m \u001b[0mhdf\u001b[0m\u001b[1;33m.\u001b[0m\u001b[0mcolumns\u001b[0m\u001b[1;33m.\u001b[0m\u001b[0mget_loc\u001b[0m\u001b[1;33m(\u001b[0m\u001b[0mget_recession_bottom\u001b[0m\u001b[1;33m(\u001b[0m\u001b[1;33m)\u001b[0m\u001b[1;33m)\u001b[0m\u001b[1;33m\u001b[0m\u001b[1;33m\u001b[0m\u001b[0m\n\u001b[0m\u001b[0;32m     49\u001b[0m \u001b[1;33m\u001b[0m\u001b[0m\n\u001b[0;32m     50\u001b[0m     \u001b[1;31m#  Run a t-test to compare the ratio of the mean price of houses in\u001b[0m\u001b[1;33m\u001b[0m\u001b[1;33m\u001b[0m\u001b[1;33m\u001b[0m\u001b[0m\n",
      "\u001b[1;32m<ipython-input-8-9d01511e9fc3>\u001b[0m in \u001b[0;36mget_recession_bottom\u001b[1;34m()\u001b[0m\n\u001b[0;32m     29\u001b[0m     \u001b[0melement_counter\u001b[0m\u001b[1;33m=\u001b[0m\u001b[1;36m0\u001b[0m\u001b[1;33m\u001b[0m\u001b[1;33m\u001b[0m\u001b[0m\n\u001b[0;32m     30\u001b[0m     \u001b[1;32mfor\u001b[0m \u001b[0melement\u001b[0m \u001b[1;32min\u001b[0m \u001b[0mdf_year\u001b[0m\u001b[1;33m:\u001b[0m\u001b[1;33m\u001b[0m\u001b[1;33m\u001b[0m\u001b[0m\n\u001b[1;32m---> 31\u001b[1;33m         \u001b[0mcharacter_position\u001b[0m \u001b[1;33m=\u001b[0m \u001b[0melement\u001b[0m\u001b[1;33m.\u001b[0m\u001b[0mfind\u001b[0m\u001b[1;33m(\u001b[0m\u001b[1;34m'q'\u001b[0m\u001b[1;33m)\u001b[0m\u001b[1;33m\u001b[0m\u001b[1;33m\u001b[0m\u001b[0m\n\u001b[0m\u001b[0;32m     32\u001b[0m \u001b[1;33m\u001b[0m\u001b[0m\n\u001b[0;32m     33\u001b[0m         \u001b[1;32mif\u001b[0m \u001b[1;33m(\u001b[0m\u001b[0mcharacter_position\u001b[0m \u001b[1;33m>\u001b[0m \u001b[1;36m0\u001b[0m\u001b[1;33m)\u001b[0m\u001b[1;33m:\u001b[0m\u001b[1;33m\u001b[0m\u001b[1;33m\u001b[0m\u001b[0m\n",
      "\u001b[1;31mAttributeError\u001b[0m: 'float' object has no attribute 'find'"
     ]
    }
   ],
   "source": [
    "from scipy.stats import ttest_ind\n",
    "\n",
    "\n",
    "def run_ttest():\n",
    "    '''First creates new data showing the decline or growth of housing prices\n",
    "    between the recession start and the recession bottom. Then runs a ttest\n",
    "    comparing the university town values to the non-university towns values, \n",
    "    return whether the alternative hypothesis (that the two groups are the same)\n",
    "    is true or not as well as the p-value of the confidence. \n",
    "    \n",
    "    Return the tuple (different, p, better) where different=True if the t-test is\n",
    "    True at a p<0.01 (we reject the null hypothesis), or different=False if \n",
    "    otherwise (we cannot reject the null hypothesis). The variable p should\n",
    "    be equal to the exact p value returned from scipy.stats.ttest_ind(). The\n",
    "    value for better should be either \"university town\" or \"non-university town\"\n",
    "    depending on which has a lower mean price ratio (which is equivilent to a\n",
    "    reduced market loss).'''\n",
    "    \n",
    "    \n",
    "    #Cleans GDP data in \"gdplev.xls\"\n",
    "\n",
    "    df = pd.read_excel('data\\\\gdplev.xls')\n",
    "    df = (df.drop(['Current-Dollar and \"Real\" Gross Domestic Product',\n",
    "                   'Unnamed: 1', 'Unnamed: 2', 'Unnamed: 3', 'Unnamed: 5'],\n",
    "                  axis=1)\n",
    "             .ix[7:]\n",
    "             .rename(columns={'Unnamed: 4': 'Quarter', 'Unnamed: 6': 'GDP'})\n",
    "             .set_index('Quarter'))\n",
    "    index = df.index.get_loc('2000q1')\n",
    "    df = df.ix[index:]    \n",
    "    \n",
    "    \n",
    "    def get_recession_start():\n",
    "        '''Returns the year and quarter of the recession start time as a\n",
    "        string value in a format such as 2005q3'''\n",
    "\n",
    "        for i in range(1, len(df) - 1):\n",
    "            if (df.iloc[i]['GDP'] < df.iloc[i - 1]['GDP']) and (df.iloc[i + 1]['GDP'] < df.iloc[i]['GDP']):\n",
    "                return df.iloc[i].name\n",
    "        return None\n",
    "    \n",
    "    \n",
    "    hdf = convert_housing_data_to_quarters()\n",
    "    \n",
    "    # Se extraen los números de las columnas asociadas al trimestre en que empezó \n",
    "    # la recesión\n",
    "    start_index = hdf.columns.get_loc(get_recession_start())\n",
    "    bottom_index = hdf.columns.get_loc(get_recession_bottom())\n",
    "    \n",
    "    #  Run a t-test to compare the ratio of the mean price of houses in \n",
    "    # university towns the quarter before the recession starts compared to \n",
    "    # the recession bottom. (price_ratio=quarter_before_recession/recession_bottom)\n",
    "    \n",
    "    start_column = list(hdf.iloc[:, start_index - 1])\n",
    "    bottom_column = list(hdf.iloc[:, bottom_index])\n",
    "    \n",
    "    result = []\n",
    "    row = 0\n",
    "\n",
    "    for price in start_column:\n",
    "        result += [price/bottom_column[row]]\n",
    "        row += 1\n",
    "    \n",
    "    hdf_ratio = pd.DataFrame(result, columns=['Ratio'], index = hdf.index)\n",
    "    hdf = pd.concat([hdf_ratio, hdf], axis=1)\n",
    "    \n",
    "\n",
    "    hdf = pd.DataFrame(hdf.loc[:, 'Ratio'])\n",
    "    ul = get_list_of_university_towns()\n",
    "    ul = ul.set_index(['State', 'RegionName'])\n",
    "    univ_prices = pd.merge(hdf, ul, how=\"inner\", left_index=True, right_index=True)\n",
    "    non_univ = pd.merge(hdf, ul, how=\"outer\", left_index=True, right_index=True, indicator=True)\n",
    "    non_univ = non_univ[non_univ['_merge'] == 'left_only']\n",
    "    non_univ = non_univ.drop('_merge', axis=1)\n",
    "    univ_prices = univ_prices.dropna()\n",
    "    non_univ = non_univ.dropna()\n",
    "    s, p = ttest_ind(univ_prices['Ratio'], non_univ['Ratio'])\n",
    "    s2, p2 = ttest_ind(non_univ['Ratio'], univ_prices['Ratio'])\n",
    "    ans = True, p, \"university town\"\n",
    "\n",
    "    \n",
    "\n",
    "    return ans\n",
    "\n",
    "    \n",
    "\n",
    "run_ttest()"
   ]
  },
  {
   "cell_type": "code",
   "execution_count": null,
   "metadata": {
    "collapsed": true
   },
   "outputs": [],
   "source": []
  }
 ],
 "metadata": {
  "coursera": {
   "course_slug": "python-data-analysis",
   "graded_item_id": "Il9Fx",
   "launcher_item_id": "TeDW0",
   "part_id": "WGlun"
  },
  "kernelspec": {
   "display_name": "Python 3",
   "language": "python",
   "name": "python3"
  },
  "language_info": {
   "codemirror_mode": {
    "name": "ipython",
    "version": 3
   },
   "file_extension": ".py",
   "mimetype": "text/x-python",
   "name": "python",
   "nbconvert_exporter": "python",
   "pygments_lexer": "ipython3",
   "version": "3.7.4-final"
  },
  "umich": {
   "id": "Assignment 4",
   "version": "1.1"
  }
 },
 "nbformat": 4,
 "nbformat_minor": 1
}