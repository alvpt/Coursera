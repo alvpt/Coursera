{
 "cells": [
  {
   "cell_type": "code",
   "execution_count": 1,
   "metadata": {},
   "outputs": [],
   "source": [
    "class Pokemon(object):\n",
    "    attack = 12\n",
    "    defense = 10\n",
    "    health = 15\n",
    "    p_type = \"Normal\"\n",
    "\n",
    "    def __init__(self, name, level = 5):\n",
    "        self.name = name\n",
    "        self.level = level\n",
    "\n",
    "    def train(self):\n",
    "        self.update()\n",
    "        self.attack_up()\n",
    "        self.defense_up()\n",
    "        self.health_up()\n",
    "        self.level = self.level + 1\n",
    "        if self.level%self.evolve == 0:\n",
    "            return self.level, \"Evolved!\"\n",
    "        else:\n",
    "            return self.level\n",
    "\n",
    "    def attack_up(self):\n",
    "        if self.level >= 10 :\n",
    "            self.attack = self.attack + self.attack_boost\n",
    "            \n",
    "        return self.attack\n",
    "\n",
    "    def defense_up(self):\n",
    "        self.defense = self.defense + self.defense_boost\n",
    "        return self.defense\n",
    "\n",
    "    def health_up(self):\n",
    "        self.health = self.health + self.health_boost\n",
    "        return self.health\n",
    "\n",
    "    def update(self):\n",
    "        self.health_boost = 5\n",
    "        self.attack_boost = 3\n",
    "        self.defense_boost = 2\n",
    "        self.evolve = 10\n",
    "\n",
    "    \n",
    "class Grass_Pokemon(Pokemon):\n",
    "    attack = 15\n",
    "    defense = 14\n",
    "    health = 12\n",
    "    p_type = \"Grass\"\n",
    "\n",
    "    def update(self):\n",
    "        self.health_boost = 6\n",
    "              \n",
    "        self.attack_boost = 2\n",
    "        \n",
    "        self.defense_boost = 3\n",
    "        self.evolve = 12\n",
    "\n",
    "    def moves(self):\n",
    "        self.p_moves = [\"razor leaf\", \"synthesis\", \"petal dance\"]\n",
    "    \n",
    "    def __str__(self):\n",
    "        return 'Pokemon name: {}, Type: {}, Level: {}'.format(self.name, self.p_type, self.level)\n",
    "\n",
    "        \n",
    "# p2 = Grass_Pokemon('Bulby')\n"
   ]
  },
  {
   "cell_type": "code",
   "execution_count": 2,
   "metadata": {},
   "outputs": [],
   "source": [
    "# Se crea la instancia\n",
    "p3 = Grass_Pokemon('Pika')"
   ]
  },
  {
   "cell_type": "code",
   "execution_count": 3,
   "metadata": {},
   "outputs": [
    {
     "name": "stdout",
     "output_type": "stream",
     "text": [
      "5\n",
      "15\n"
     ]
    }
   ],
   "source": [
    "# Nivel y ataque inicial\n",
    "print(p3.level)\n",
    "print(p3.attack)"
   ]
  },
  {
   "cell_type": "code",
   "execution_count": 4,
   "metadata": {},
   "outputs": [
    {
     "name": "stdout",
     "output_type": "stream",
     "text": [
      "6\n",
      "15\n"
     ]
    }
   ],
   "source": [
    "# Entrenamiento y comprobación de nivel y ataque\n",
    "p3.train()\n",
    "print(p3.level)\n",
    "print(p3.attack)"
   ]
  },
  {
   "cell_type": "code",
   "execution_count": 5,
   "metadata": {},
   "outputs": [],
   "source": [
    "# Es necesario entrenar 4 veces más al modelo\n",
    "for i in range(4):\n",
    "    p3.train()"
   ]
  },
  {
   "cell_type": "code",
   "execution_count": 6,
   "metadata": {},
   "outputs": [
    {
     "name": "stdout",
     "output_type": "stream",
     "text": [
      "10\n",
      "15\n"
     ]
    }
   ],
   "source": [
    "# Comprobación nivel y ataque\n",
    "print(p3.level)\n",
    "print(p3.attack)"
   ]
  },
  {
   "cell_type": "code",
   "execution_count": 7,
   "metadata": {},
   "outputs": [
    {
     "name": "stdout",
     "output_type": "stream",
     "text": [
      "11\n",
      "17\n"
     ]
    }
   ],
   "source": [
    "# Como ahora su nivel es 10, si se le entrena, el ataque deberá subir 2 puntos más\n",
    "p3.train()\n",
    "print(p3.level)\n",
    "print(p3.attack)"
   ]
  },
  {
   "cell_type": "code",
   "execution_count": null,
   "metadata": {},
   "outputs": [],
   "source": []
  }
 ],
 "metadata": {
  "kernelspec": {
   "display_name": "Python 3",
   "language": "python",
   "name": "python3"
  },
  "language_info": {
   "codemirror_mode": {
    "name": "ipython",
    "version": 3
   },
   "file_extension": ".py",
   "mimetype": "text/x-python",
   "name": "python",
   "nbconvert_exporter": "python",
   "pygments_lexer": "ipython3",
   "version": "3.7.4"
  }
 },
 "nbformat": 4,
 "nbformat_minor": 2
}
