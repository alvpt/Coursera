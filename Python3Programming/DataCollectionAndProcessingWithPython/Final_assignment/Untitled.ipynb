{
 "cells": [
  {
   "cell_type": "code",
   "execution_count": 3,
   "metadata": {},
   "outputs": [
    {
     "name": "stdout",
     "output_type": "stream",
     "text": [
      "\n",
      "Note: you may need to restart the kernel to use updated packages.\n"
     ]
    },
    {
     "name": "stderr",
     "output_type": "stream",
     "text": [
      "Traceback (most recent call last):\n",
      "  File \"C:\\Users\\alvaro\\Anaconda3\\Scripts\\conda-script.py\", line 11, in <module>\n",
      "    from conda.cli import main\n",
      "ImportError: No module named conda.cli\n"
     ]
    }
   ],
   "source": []
  },
  {
   "cell_type": "code",
   "execution_count": 4,
   "metadata": {},
   "outputs": [
    {
     "ename": "ModuleNotFoundError",
     "evalue": "No module named 'requests_with_caching'",
     "output_type": "error",
     "traceback": [
      "\u001b[1;31m---------------------------------------------------------------------------\u001b[0m",
      "\u001b[1;31mModuleNotFoundError\u001b[0m                       Traceback (most recent call last)",
      "\u001b[1;32m<ipython-input-4-6080795d3027>\u001b[0m in \u001b[0;36m<module>\u001b[1;34m\u001b[0m\n\u001b[1;32m----> 1\u001b[1;33m \u001b[1;32mimport\u001b[0m \u001b[0mrequests_with_caching\u001b[0m\u001b[1;33m\u001b[0m\u001b[1;33m\u001b[0m\u001b[0m\n\u001b[0m\u001b[0;32m      2\u001b[0m \u001b[1;32mimport\u001b[0m \u001b[0mjson\u001b[0m\u001b[1;33m\u001b[0m\u001b[1;33m\u001b[0m\u001b[0m\n\u001b[0;32m      3\u001b[0m \u001b[1;33m\u001b[0m\u001b[0m\n\u001b[0;32m      4\u001b[0m \u001b[1;31m# some invocations that we use in the automated tests; uncomment these if you are getting errors and want better error messages\u001b[0m\u001b[1;33m\u001b[0m\u001b[1;33m\u001b[0m\u001b[1;33m\u001b[0m\u001b[0m\n\u001b[0;32m      5\u001b[0m \u001b[1;31m# get_movies_from_tastedive(\"Bridesmaids\")\u001b[0m\u001b[1;33m\u001b[0m\u001b[1;33m\u001b[0m\u001b[1;33m\u001b[0m\u001b[0m\n",
      "\u001b[1;31mModuleNotFoundError\u001b[0m: No module named 'requests_with_caching'"
     ]
    }
   ],
   "source": [
    "import requests_with_caching\n",
    "import json\n",
    "\n",
    "# some invocations that we use in the automated tests; uncomment these if you are getting errors and want better error messages\n",
    "# get_movies_from_tastedive(\"Bridesmaids\")\n",
    "# get_movies_from_tastedive(\"Black Panther\")\n",
    "\n",
    "def get_movies_from_tastedive(string):\n",
    "\n",
    "    base_url = 'https://tastedive.com/api/similar'\n",
    "    r = requests_with_caching.get(base_url, params = {'q':string, 'type':'movies', 'limit':'5'}, permanent_cache_file = 'this_page_cache.txt')\n",
    "    print(r.url)\n",
    "    print(r.text)\n",
    "    print('---------------')\n",
    "    first_recommendation =r.text['Similar']['Results'][0]['Name']\n",
    "    print(first_recommendation)\n",
    "    \n",
    "    \n",
    "    return \n",
    "    \n",
    "    "
   ]
  },
  {
   "cell_type": "code",
   "execution_count": null,
   "metadata": {},
   "outputs": [],
   "source": [
    "import requests_with_caching\n",
    "import json\n",
    "# some invocations that we use in the automated tests; uncomment these if you are getting errors and want better error messages\n",
    "# \n",
    "# get_movies_from_tastedive(\"Black Panther\")\n",
    "\n",
    "\n",
    "def get_movies_from_tastedive(string):\n",
    "\n",
    "    base_url = 'https://tastedive.com/api/similar'\n",
    "    response = requests_with_caching.get(base_url, params = {'q':string, 'type':'movies', 'limit':5})\n",
    "    response_text_dict = json.loads(response.text, indent=2)\n",
    "    print(response.text)\n",
    "\n",
    "    \n",
    "    return \n",
    "\n",
    "get_movies_from_tastedive(\"Bridesmaids\")\n",
    "    \n"
   ]
  }
 ],
 "metadata": {
  "kernelspec": {
   "display_name": "Python 3",
   "language": "python",
   "name": "python3"
  },
  "language_info": {
   "codemirror_mode": {
    "name": "ipython",
    "version": 3
   },
   "file_extension": ".py",
   "mimetype": "text/x-python",
   "name": "python",
   "nbconvert_exporter": "python",
   "pygments_lexer": "ipython3",
   "version": "3.7.4"
  }
 },
 "nbformat": 4,
 "nbformat_minor": 2
}
